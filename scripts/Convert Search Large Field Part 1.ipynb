{
 "cells": [
  {
   "cell_type": "code",
   "execution_count": null,
   "metadata": {},
   "outputs": [],
   "source": [
    "import numpy as np\n",
    "import pandas as pd\n",
    "from pathlib import Path\n",
    "from scipy.io import loadmat"
   ]
  },
  {
   "cell_type": "code",
   "execution_count": null,
   "metadata": {},
   "outputs": [],
   "source": [
    "import matplotlib.pyplot as plt\n",
    "import seaborn as sns"
   ]
  },
  {
   "cell_type": "code",
   "execution_count": null,
   "metadata": {},
   "outputs": [],
   "source": [
    "%load_ext autoreload\n",
    "%autoreload 2\n",
    "plt.style.use('bayesee.academic')"
   ]
  },
  {
   "cell_type": "code",
   "execution_count": null,
   "metadata": {},
   "outputs": [],
   "source": [
    "repo_path = Path.cwd().parents[0]\n",
    "print(repo_path)"
   ]
  },
  {
   "cell_type": "code",
   "execution_count": null,
   "metadata": {},
   "outputs": [],
   "source": [
    "file_name = repo_path / 'data/covert-search/large-field/p1_data_AZ_t1.mat'\n",
    "data = loadmat(file_name)\n",
    "print(data.keys())"
   ]
  },
  {
   "cell_type": "code",
   "execution_count": null,
   "metadata": {},
   "outputs": [],
   "source": [
    "taget_amplitude = data['targetAmplitude']\n",
    "target_location = data['tLocation']\n",
    "spot_center = data['spotCenters']\n",
    "human_response = data['hResponse']\n",
    "n_location = data['nLocations'][0][0]\n",
    "spot_diameter = data['spotLength'][0][0]\n",
    "stimulus_design_size= data['totalLength'][0][0]\n",
    "monitor_width = data['monitorPx'][0][0]\n",
    "monitor_height = data['monitorPx'][0][1]"
   ]
  },
  {
   "cell_type": "code",
   "execution_count": null,
   "metadata": {},
   "outputs": [],
   "source": [
    "shifted_spot_center = spot_center.copy()\n",
    "shifted_spot_center[:,0] += (monitor_height - stimulus_design_size)//2\n",
    "shifted_spot_center[:,1] += (monitor_width - stimulus_design_size)//2\n",
    "\n",
    "accurate_response = target_location == human_response"
   ]
  },
  {
   "cell_type": "code",
   "execution_count": null,
   "metadata": {},
   "outputs": [],
   "source": [
    "target_amplitude_by_level = taget_amplitude[0,0,:]\n",
    "accuracy_by_level = accurate_response.mean(axis=(0,1,2))\n",
    "accuracy_by_session_by_level = accurate_response.mean(axis=(0,2))\n",
    "n_session = accuracy_by_session_by_level.shape[0]"
   ]
  },
  {
   "cell_type": "code",
   "execution_count": null,
   "metadata": {},
   "outputs": [],
   "source": [
    "fig, ax = plt.subplots()\n",
    "\n",
    "for index_session in range(n_session):\n",
    "    ax.scatter(target_amplitude_by_level, accuracy_by_session_by_level[index_session,:], s=250, label=f'Session {index_session+1}')\n",
    "        \n",
    "ax.legend(loc='best')\n",
    "ax.set(xlabel='Target amplitude', ylabel='Accuracy')"
   ]
  },
  {
   "cell_type": "code",
   "execution_count": null,
   "metadata": {},
   "outputs": [],
   "source": []
  }
 ],
 "metadata": {
  "kernelspec": {
   "display_name": "bayesee",
   "language": "python",
   "name": "python3"
  },
  "language_info": {
   "codemirror_mode": {
    "name": "ipython",
    "version": 3
   },
   "file_extension": ".py",
   "mimetype": "text/x-python",
   "name": "python",
   "nbconvert_exporter": "python",
   "pygments_lexer": "ipython3",
   "version": "3.11.3"
  },
  "orig_nbformat": 4
 },
 "nbformat": 4,
 "nbformat_minor": 2
}
