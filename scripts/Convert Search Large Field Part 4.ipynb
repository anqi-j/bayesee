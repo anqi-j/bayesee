{
 "cells": [
  {
   "cell_type": "code",
   "execution_count": null,
   "metadata": {},
   "outputs": [],
   "source": [
    "import numpy as np\n",
    "import pandas as pd\n",
    "from pathlib import Path\n",
    "from scipy.io import loadmat\n",
    "from scipy.stats import ttest_rel, sem\n",
    "from sklearn.metrics import confusion_matrix"
   ]
  },
  {
   "cell_type": "code",
   "execution_count": null,
   "metadata": {},
   "outputs": [],
   "source": [
    "import matplotlib.pyplot as plt\n",
    "import seaborn as sns\n",
    "from matplotlib.colors import hsv_to_rgb, ListedColormap\n",
    "from matplotlib.patches import Circle"
   ]
  },
  {
   "cell_type": "code",
   "execution_count": null,
   "metadata": {},
   "outputs": [],
   "source": [
    "%load_ext autoreload\n",
    "%autoreload 2\n",
    "plt.style.use('bayesee.academic')"
   ]
  },
  {
   "cell_type": "code",
   "execution_count": null,
   "metadata": {},
   "outputs": [],
   "source": [
    "repo_path = Path.cwd().parents[0]\n",
    "print(repo_path)"
   ]
  },
  {
   "cell_type": "code",
   "execution_count": null,
   "metadata": {},
   "outputs": [],
   "source": [
    "file_name = repo_path / 'data/covert-search/large-field/p4_data_AZ_t1.mat'\n",
    "data = loadmat(file_name)\n",
    "print(data.keys())"
   ]
  },
  {
   "cell_type": "code",
   "execution_count": null,
   "metadata": {},
   "outputs": [],
   "source": [
    "taget_amplitude = data['targetAmplitude']\n",
    "target_location = data['tLocation']\n",
    "spot_center = data['spotCenters']\n",
    "human_response = data['hResponse']\n",
    "n_location = data['nLocations'][0][0]\n",
    "spot_diameter = data['spotLength'][0][0]\n",
    "stimulus_design_size= data['totalLength'][0][0]\n",
    "monitor_width = data['monitorPx'][0][0]\n",
    "monitor_height = data['monitorPx'][0][1]\n",
    "ppd = data['ppd'][0][0]"
   ]
  },
  {
   "cell_type": "code",
   "execution_count": null,
   "metadata": {},
   "outputs": [],
   "source": [
    "shifted_spot_center = spot_center.copy()\n",
    "shifted_spot_center[:,0] += (monitor_height - stimulus_design_size)//2\n",
    "shifted_spot_center[:,1] += (monitor_width - stimulus_design_size)//2\n",
    "\n",
    "accurate_response = target_location == human_response"
   ]
  },
  {
   "cell_type": "code",
   "execution_count": null,
   "metadata": {},
   "outputs": [],
   "source": [
    "list_spot_region = [np.zeros(monitor_width,monitor_height)] * (n_location-1)\n",
    "pixel_col, pixel_row = np.meshgrid(np.arange(monitor_width), np.arange(monitor_height))\n",
    "\n",
    "for index_location in range(n_location-1):\n",
    "     list_spot_region[index_location] = (pixel_row - shifted_spot_center[index_location, 0])**2+(pixel_col - shifted_spot_center[index_location, 1])**2<= spot_diameter**2/4"
   ]
  },
  {
   "cell_type": "code",
   "execution_count": null,
   "metadata": {},
   "outputs": [],
   "source": [
    "stimulus_region = np.zeros((monitor_height, monitor_width))\n",
    "\n",
    "for index_location in range(n_location-1):\n",
    "    stimulus_region[list_spot_region[index_location]] = 1"
   ]
  },
  {
   "cell_type": "code",
   "execution_count": null,
   "metadata": {},
   "outputs": [],
   "source": [
    "fig, ax = plt.subplots()\n",
    "ax.imshow(stimulus_region)\n",
    "\n",
    "for index_location in range(n_location-1):\n",
    "    ax.text(shifted_spot_center[index_location, 1], shifted_spot_center[index_location, 0], f'{index_location+1}', ha='center', va='center')\n",
    "\n",
    "circle = Circle((monitor_width//2, monitor_height//2), spot_diameter*1.5, edgecolor='r', facecolor='none', linewidth=3)\n",
    "ax.add_patch(circle)"
   ]
  },
  {
   "cell_type": "code",
   "execution_count": null,
   "metadata": {},
   "outputs": [],
   "source": [
    "array_eccentral_distance = np.zeros((n_location-1,))\n",
    "\n",
    "for index_location in range(n_location-1):\n",
    "    array_eccentral_distance[index_location] = np.sqrt((spot_center[index_location, 0] - stimulus_design_size//2)**2+(spot_center[index_location, 1] - stimulus_design_size//2)**2)\n",
    "\n",
    "array_eccentral_distance /= ppd\n",
    "\n",
    "print(array_eccentral_distance)"
   ]
  },
  {
   "cell_type": "code",
   "execution_count": null,
   "metadata": {},
   "outputs": [],
   "source": [
    "pixel_precision_array_eccentral_distance = array_eccentral_distance.copy()\n",
    "\n",
    "for index_d1, distance1 in enumerate(np.unique(array_eccentral_distance)):\n",
    "    for index_d2, distance2 in enumerate(np.unique(array_eccentral_distance)[index_d1+1:]):\n",
    "        if distance1 != distance2 and np.abs(distance2 - distance1) < 0.5:\n",
    "            print(index_d1, distance1, index_d2, distance2)\n",
    "            pixel_precision_array_eccentral_distance[array_eccentral_distance==distance2] = distance1\n",
    "\n",
    "print(pixel_precision_array_eccentral_distance)"
   ]
  },
  {
   "cell_type": "code",
   "execution_count": null,
   "metadata": {},
   "outputs": [],
   "source": [
    "eccentral_distance_sorted_indexes = np.argsort(pixel_precision_array_eccentral_distance, kind='stable')\n",
    "extra_eccentral_distance_sorted_indexes = np.insert(eccentral_distance_sorted_indexes+1,0,0)\n",
    "print(extra_eccentral_distance_sorted_indexes)"
   ]
  },
  {
   "cell_type": "code",
   "execution_count": null,
   "metadata": {},
   "outputs": [],
   "source": [
    "accurate_response = target_location == human_response\n",
    "confusion_mat = confusion_matrix(human_response.flatten(), target_location.flatten(), labels=range(n_location))[extra_eccentral_distance_sorted_indexes, :][:, extra_eccentral_distance_sorted_indexes]\n",
    "array_index_location = np.arange(n_location)[extra_eccentral_distance_sorted_indexes]"
   ]
  },
  {
   "cell_type": "code",
   "execution_count": null,
   "metadata": {},
   "outputs": [],
   "source": [
    "correct_rejection = confusion_mat[0][0]\n",
    "second_largest_confusion_mat = np.max(np.delete(confusion_mat, np.where(confusion_mat == correct_rejection)))\n",
    "plotted_confusion_mat = confusion_mat.copy()\n",
    "plotted_confusion_mat[0][0] = second_largest_confusion_mat\n",
    "print(second_largest_confusion_mat)"
   ]
  },
  {
   "cell_type": "code",
   "execution_count": null,
   "metadata": {},
   "outputs": [],
   "source": [
    "indexes_near = np.arange(1,n_location)[pixel_precision_array_eccentral_distance < spot_diameter*1.5/ppd]\n",
    "indexes_far = np.arange(1,n_location)[pixel_precision_array_eccentral_distance > spot_diameter*1.5/ppd]\n",
    "print(indexes_near, indexes_far)"
   ]
  },
  {
   "cell_type": "code",
   "execution_count": null,
   "metadata": {},
   "outputs": [],
   "source": [
    "near_stimulus_region = np.zeros((monitor_height, monitor_width))\n",
    "\n",
    "for index_near in indexes_near:\n",
    "    near_stimulus_region[list_spot_region[index_near-1]] = 1"
   ]
  },
  {
   "cell_type": "code",
   "execution_count": null,
   "metadata": {},
   "outputs": [],
   "source": [
    "fig, ax = plt.subplots()\n",
    "ax.imshow(near_stimulus_region)\n",
    "\n",
    "for index_near in indexes_near:\n",
    "    ax.text(shifted_spot_center[index_near-1, 1], shifted_spot_center[index_near-1, 0], f'{index_near}', ha='center', va='center')"
   ]
  },
  {
   "cell_type": "code",
   "execution_count": null,
   "metadata": {},
   "outputs": [],
   "source": [
    "accuracy_near = accurate_response[np.isin(target_location, indexes_near)].mean()\n",
    "print(accuracy_near)"
   ]
  },
  {
   "cell_type": "code",
   "execution_count": null,
   "metadata": {},
   "outputs": [],
   "source": [
    "fig, ax = plt.subplots(figsize=(15,12))\n",
    "im = ax.imshow(plotted_confusion_mat)\n",
    "\n",
    "for index_target_location in array_index_location:\n",
    "    for index_human_response in array_index_location:\n",
    "        if not (-index_target_location == 0 and index_human_response == 0):\n",
    "            ax.text(index_human_response, index_target_location, f'{confusion_mat[index_target_location, index_human_response]:.0f}', ha='center', va='center')\n",
    "\n",
    "ax.annotate(f'{correct_rejection:.0f}', xy=(0, 0), xytext=(-0.5,-1), arrowprops=dict(facecolor='black', shrink=0.05))\n",
    "\n",
    "ax.set(xticks=np.arange(n_location), yticks=np.arange(n_location), xticklabels=array_index_location, yticklabels=array_index_location, xlabel='Target location sorted by eccentral distance', ylabel='Human response sorted by eccentral distance')\n",
    "\n",
    "inner_ax = fig.add_axes([0.23, 0.3, 0.2, 0.32])\n",
    "inner_ax.imshow(stimulus_region)\n",
    "inner_ax.set(xticks=[],yticks=[])\n",
    "\n",
    "for index_location in range(n_location-1):\n",
    "    inner_ax.text(shifted_spot_center[index_location, 1], shifted_spot_center[index_location, 0], f'{index_location+1}', ha='center', va='center', fontsize=16)\n",
    "\n",
    "plt.show()"
   ]
  },
  {
   "cell_type": "code",
   "execution_count": null,
   "metadata": {},
   "outputs": [],
   "source": [
    "local_hit_region = np.empty((monitor_height, monitor_width))\n",
    "\n",
    "local_hit = np.array([((target_location == index_near) & (human_response == index_near)).sum() / (target_location == index_near).sum() for index_near in indexes_near])\n",
    "\n",
    "for index_index_near, index_near in enumerate(indexes_near):\n",
    "    local_hit_region[list_spot_region[index_near-1]] = local_hit[index_index_near]"
   ]
  },
  {
   "cell_type": "code",
   "execution_count": null,
   "metadata": {},
   "outputs": [],
   "source": [
    "fig, ax = plt.subplots()\n",
    "ax.imshow(local_hit_region)\n",
    "\n",
    "for index_index_near, index_near in enumerate(indexes_near):\n",
    "    ax.text(shifted_spot_center[index_near-1, 1], shifted_spot_center[index_near-1, 0], f'{local_hit[index_index_near]:.3f}', ha='center', va='center')"
   ]
  },
  {
   "cell_type": "code",
   "execution_count": null,
   "metadata": {},
   "outputs": [],
   "source": [
    "local_miss_region = np.empty((monitor_height, monitor_width))\n",
    "\n",
    "local_miss = np.array([((target_location == index_near) & (human_response == 0)).sum() / (target_location == index_near).sum()  for index_near in indexes_near])\n",
    "\n",
    "for index_index_near, index_near in enumerate(indexes_near):\n",
    "    local_miss_region[list_spot_region[index_near-1]] = local_miss[index_index_near]"
   ]
  },
  {
   "cell_type": "code",
   "execution_count": null,
   "metadata": {},
   "outputs": [],
   "source": [
    "fig, ax = plt.subplots()\n",
    "ax.imshow(local_miss_region)\n",
    "\n",
    "for index_index_near, index_near in enumerate(indexes_near):\n",
    "    ax.text(shifted_spot_center[index_near-1, 1], shifted_spot_center[index_near-1, 0], f'{local_miss[index_index_near]:.3f}', ha='center', va='center')"
   ]
  },
  {
   "cell_type": "code",
   "execution_count": null,
   "metadata": {},
   "outputs": [],
   "source": [
    "local_fa_region = np.empty((monitor_height, monitor_width))\n",
    "\n",
    "local_fa = np.array([((target_location == 0) & (human_response == index_near)).sum() / (target_location == 0).sum()  for index_near in indexes_near])\n",
    "\n",
    "for index_index_near, index_near in enumerate(indexes_near):\n",
    "    local_fa_region[list_spot_region[index_near-1]] = local_fa[index_index_near]"
   ]
  },
  {
   "cell_type": "code",
   "execution_count": null,
   "metadata": {},
   "outputs": [],
   "source": [
    "fig, ax = plt.subplots()\n",
    "ax.imshow(local_fa_region)\n",
    "\n",
    "for index_index_near, index_near in enumerate(indexes_near):\n",
    "    ax.text(shifted_spot_center[index_near-1, 1], shifted_spot_center[index_near-1, 0], f'{local_fa[index_index_near]:.3f}', ha='center', va='center')"
   ]
  },
  {
   "cell_type": "code",
   "execution_count": null,
   "metadata": {},
   "outputs": [],
   "source": [
    "cr = ((target_location == 0) & (human_response == 0)).sum() / (target_location == 0).sum()\n",
    "\n",
    "print(cr)"
   ]
  },
  {
   "cell_type": "code",
   "execution_count": null,
   "metadata": {},
   "outputs": [],
   "source": [
    "local_hit_region = np.empty((monitor_height, monitor_width))\n",
    "\n",
    "local_hit_count = np.array([((target_location == index_near) & (human_response == index_near)).sum() for index_near in indexes_near])\n",
    "\n",
    "for index_index_near, index_near in enumerate(indexes_near):\n",
    "    local_hit_region[list_spot_region[index_near-1]] = local_hit_count[index_index_near]"
   ]
  },
  {
   "cell_type": "code",
   "execution_count": null,
   "metadata": {},
   "outputs": [],
   "source": [
    "fig, ax = plt.subplots()\n",
    "ax.imshow(local_hit_region)\n",
    "\n",
    "for index_index_near, index_near in enumerate(indexes_near):\n",
    "    ax.text(shifted_spot_center[index_near-1, 1], shifted_spot_center[index_near-1, 0], f'{local_hit_count[index_index_near]:.0f}', ha='center', va='center')"
   ]
  },
  {
   "cell_type": "code",
   "execution_count": null,
   "metadata": {},
   "outputs": [],
   "source": [
    "local_miss_region = np.empty((monitor_height, monitor_width))\n",
    "\n",
    "local_miss_count = np.array([((target_location == index_near) & (human_response == 0)).sum() for index_near in indexes_near])\n",
    "\n",
    "for index_index_near, index_near in enumerate(indexes_near):\n",
    "    local_miss_region[list_spot_region[index_near-1]] = local_miss_count[index_index_near]"
   ]
  },
  {
   "cell_type": "code",
   "execution_count": null,
   "metadata": {},
   "outputs": [],
   "source": [
    "fig, ax = plt.subplots()\n",
    "ax.imshow(local_miss_region)\n",
    "\n",
    "for index_index_near, index_near in enumerate(indexes_near):\n",
    "    ax.text(shifted_spot_center[index_near-1, 1], shifted_spot_center[index_near-1, 0], f'{local_miss_count[index_index_near]:.0f}', ha='center', va='center')"
   ]
  },
  {
   "cell_type": "code",
   "execution_count": null,
   "metadata": {},
   "outputs": [],
   "source": [
    "local_fa_region = np.empty((monitor_height, monitor_width))\n",
    "\n",
    "local_fa_count = np.array([((target_location == 0) & (human_response == index_near)).sum() for index_near in indexes_near])\n",
    "\n",
    "for index_index_near, index_near in enumerate(indexes_near):\n",
    "    local_fa_region[list_spot_region[index_near-1]] = local_fa_count[index_index_near]"
   ]
  },
  {
   "cell_type": "code",
   "execution_count": null,
   "metadata": {},
   "outputs": [],
   "source": [
    "fig, ax = plt.subplots()\n",
    "ax.imshow(local_fa_region)\n",
    "\n",
    "for index_index_near, index_near in enumerate(indexes_near):\n",
    "    ax.text(shifted_spot_center[index_near-1, 1], shifted_spot_center[index_near-1, 0], f'{local_fa_count[index_index_near]:.0f}', ha='center', va='center')"
   ]
  },
  {
   "cell_type": "code",
   "execution_count": null,
   "metadata": {},
   "outputs": [],
   "source": [
    "local_fh_from_region = np.empty((monitor_height, monitor_width))\n",
    "\n",
    "local_fh_from_count = np.array([((target_location == index_near) & (human_response != index_near) & (human_response != 0)).sum() for index_near in indexes_near])\n",
    "\n",
    "for index_index_near, index_near in enumerate(indexes_near):\n",
    "    local_fh_from_region[list_spot_region[index_near-1]] = local_fh_from_count[index_index_near]"
   ]
  },
  {
   "cell_type": "code",
   "execution_count": null,
   "metadata": {},
   "outputs": [],
   "source": [
    "fig, ax = plt.subplots()\n",
    "ax.imshow(local_fh_from_region)\n",
    "\n",
    "for index_index_near, index_near in enumerate(indexes_near):\n",
    "    ax.text(shifted_spot_center[index_near-1, 1], shifted_spot_center[index_near-1, 0], f'{local_fh_from_count[index_index_near]:.0f}', ha='center', va='center')"
   ]
  },
  {
   "cell_type": "code",
   "execution_count": null,
   "metadata": {},
   "outputs": [],
   "source": [
    "local_fh_to_region = np.empty((monitor_height, monitor_width))\n",
    "\n",
    "local_fh_to_count = np.array([((target_location != 0) & (target_location != index_near) & (human_response == index_near)).sum() for index_near in indexes_near])\n",
    "\n",
    "for index_index_near, index_near in enumerate(indexes_near):\n",
    "    local_fh_to_region[list_spot_region[index_near-1]] = local_fh_to_count[index_index_near]"
   ]
  },
  {
   "cell_type": "code",
   "execution_count": null,
   "metadata": {},
   "outputs": [],
   "source": [
    "fig, ax = plt.subplots()\n",
    "ax.imshow(local_fh_to_region)\n",
    "\n",
    "for index_index_near, index_near in enumerate(indexes_near):\n",
    "    ax.text(shifted_spot_center[index_near-1, 1], shifted_spot_center[index_near-1, 0], f'{local_fh_to_count[index_index_near]:.0f}', ha='center', va='center')"
   ]
  },
  {
   "cell_type": "code",
   "execution_count": null,
   "metadata": {},
   "outputs": [],
   "source": [
    "orientation_hsv_color_map = np.zeros((n_location-1,3))\n",
    "\n",
    "for index_location in range(n_location-1):\n",
    "    dy = spot_center[index_location, 0] - stimulus_design_size//2\n",
    "    dx = stimulus_design_size//2 - spot_center[index_location, 1]\n",
    "    orientation_hsv_color_map[index_location,0] = (1 - np.arctan2(dy,dx) / np.pi) / 2\n",
    "\n",
    "    orientation_hsv_color_map[index_location,1] = 1\n",
    "\n",
    "    if dx == 0 and dy == 0:\n",
    "        orientation_hsv_color_map[index_location,2] = 0\n",
    "    else:\n",
    "        orientation_hsv_color_map[index_location,2] = 0.75\n",
    "\n",
    "rgb_orientation_color_map = hsv_to_rgb(orientation_hsv_color_map)"
   ]
  },
  {
   "cell_type": "code",
   "execution_count": null,
   "metadata": {},
   "outputs": [],
   "source": [
    "large_field_near_field_hit = np.array([0.73913043, 0.73684211, 0.4, 0.61111111, 0.34482759, 0.08333333, 0.05555556, 0.125, 0.66666667, 0.55555556, 0.75, 0.25, 0.85, 0.7 , 0.78571429, 0.39285714, 0.32, 0.21428571, 0.45454545])[indexes_near-1]"
   ]
  },
  {
   "cell_type": "code",
   "execution_count": null,
   "metadata": {},
   "outputs": [],
   "source": [
    "fig, ax = plt.subplots()\n",
    "before = large_field_near_field_hit\n",
    "after = local_hit\n",
    "\n",
    "for index_pair, point_before in enumerate(before):\n",
    "    ax.plot([0, 1], [point_before, after[index_pair]], '-', linewidth=3, color=rgb_orientation_color_map[indexes_near[index_pair]-1,:], alpha=0.6)\n",
    "\n",
    "ax.errorbar([0, 1], [before.mean(), after.mean()], yerr=[sem(before), sem(after)], color='black', linewidth=7)\n",
    "\n",
    "ax.set(ylabel='Hit', xticks=[0, 1])\n",
    "ax.set_xticklabels(['16-degree field', '8-degree field'], fontsize=24)\n",
    "\n",
    "inner_ax = fig.add_axes([0.15, 0.55, 0.24, 0.384])\n",
    "inner_ax.imshow(near_stimulus_region)\n",
    "inner_ax.set(xticks=[], yticks=[])\n",
    "\n",
    "for index_near in indexes_near:\n",
    "    circle = Circle((shifted_spot_center[index_near-1, 1], shifted_spot_center[index_near-1, 0]), spot_diameter/2, color=rgb_orientation_color_map[index_near-1], linewidth=1, alpha=0.6)\n",
    "    inner_ax.add_patch(circle)\n",
    "    \n",
    "    inner_ax.text(shifted_spot_center[index_near-1, 1], shifted_spot_center[index_near-1, 0], f'{index_near}', ha='center', va='center', c='w', fontsize=16)\n",
    "\n",
    "t_val, p_val = ttest_rel(after, before)\n",
    "print(f'Mean difference: {(after-before).mean():.3f}; (paired sample t-test) t-statistic: {t_val:.3f}, p-value: {p_val:.5f}.')"
   ]
  },
  {
   "cell_type": "code",
   "execution_count": null,
   "metadata": {},
   "outputs": [],
   "source": [
    "large_field_near_field_miss = np.array([0.2173913 , 0.26315789, 0.56, 0.27777778, 0.4137931, 0.70833333, 0.83333333, 0.875, 0.26666667, 0.44444444, 0.25, 0.54166667, 0.15, 0.3 , 0.17857143, 0.53571429, 0.6 , 0.64285714, 0.5 ])[indexes_near-1]"
   ]
  },
  {
   "cell_type": "code",
   "execution_count": null,
   "metadata": {},
   "outputs": [],
   "source": [
    "fig, ax = plt.subplots()\n",
    "before = large_field_near_field_miss\n",
    "after = local_miss\n",
    "\n",
    "for index_pair, point_before in enumerate(before):\n",
    "    ax.plot([0, 1], [point_before, after[index_pair]], '-', linewidth=3, color=rgb_orientation_color_map[indexes_near[index_pair]-1,:], alpha=0.6)\n",
    "\n",
    "ax.errorbar([0, 1], [before.mean(), after.mean()], yerr=[sem(before), sem(after)], color='black', linewidth=7)\n",
    "\n",
    "ax.set(ylabel='Miss', xticks=[0, 1])\n",
    "ax.set_xticklabels(['16-degree field', '8-degree field'], fontsize=24)\n",
    "\n",
    "inner_ax = fig.add_axes([0.15, 0.05, 0.24, 0.384])\n",
    "inner_ax.imshow(near_stimulus_region)\n",
    "inner_ax.set(xticks=[], yticks=[])\n",
    "\n",
    "for index_near in indexes_near:\n",
    "    circle = Circle((shifted_spot_center[index_near-1, 1], shifted_spot_center[index_near-1, 0]), spot_diameter/2, color=rgb_orientation_color_map[index_near-1], linewidth=1, alpha=0.6)\n",
    "    inner_ax.add_patch(circle)\n",
    "    \n",
    "    inner_ax.text(shifted_spot_center[index_near-1, 1], shifted_spot_center[index_near-1, 0], f'{index_near}', ha='center', va='center', c='w', fontsize=16)\n",
    "\n",
    "t_val, p_val = ttest_rel(after, before)\n",
    "print(f'Mean difference: {(after-before).mean():.3f}; (paired sample t-test) t-statistic: {t_val:.3f}, p-value: {p_val:.5f}.')"
   ]
  },
  {
   "cell_type": "code",
   "execution_count": null,
   "metadata": {},
   "outputs": [],
   "source": [
    "large_field_near_field_fa = np.array([0.01507538, 0.00502513, 0.00251256, 0.01005025, 0.00251256,0.00502513, 0.00251256, 0.00251256, 0.01256281, 0.01256281,0.01507538, 0.00502513, 0.00753769, 0.01256281, 0.00753769,0.00251256, 0.01758794, 0.01005025, 0.01005025])[indexes_near-1]"
   ]
  },
  {
   "cell_type": "code",
   "execution_count": null,
   "metadata": {},
   "outputs": [],
   "source": [
    "fig, ax = plt.subplots()\n",
    "before = large_field_near_field_fa\n",
    "after = local_fa\n",
    "\n",
    "for index_pair, point_before in enumerate(before):\n",
    "    ax.plot([0, 1], [point_before, after[index_pair]], '-', linewidth=3, color=rgb_orientation_color_map[indexes_near[index_pair]-1,:], alpha=0.6)\n",
    "\n",
    "ax.errorbar([0, 1], [before.mean(), after.mean()], yerr=[sem(before), sem(after)], color='black', linewidth=7)\n",
    "\n",
    "ax.set(ylabel='False alarm', xticks=[0, 1])\n",
    "ax.set_xticklabels(['16-degree field', '8-degree field'], fontsize=24)\n",
    "\n",
    "inner_ax = fig.add_axes([0.15, 0.55, 0.24, 0.384])\n",
    "inner_ax.imshow(near_stimulus_region)\n",
    "inner_ax.set(xticks=[], yticks=[])\n",
    "\n",
    "for index_near in indexes_near:\n",
    "    circle = Circle((shifted_spot_center[index_near-1, 1], shifted_spot_center[index_near-1, 0]), spot_diameter/2, color=rgb_orientation_color_map[index_near-1], linewidth=1, alpha=0.6)\n",
    "    inner_ax.add_patch(circle)\n",
    "    \n",
    "    inner_ax.text(shifted_spot_center[index_near-1, 1], shifted_spot_center[index_near-1, 0], f'{index_near}', ha='center', va='center', c='w', fontsize=16)\n",
    "\n",
    "t_val, p_val = ttest_rel(after, before)\n",
    "print(f'Mean difference: {(after-before).mean():.3f}; (paired sample t-test) t-statistic: {t_val:.3f}, p-value: {p_val:.5f}.')"
   ]
  },
  {
   "cell_type": "code",
   "execution_count": null,
   "metadata": {},
   "outputs": [],
   "source": []
  }
 ],
 "metadata": {
  "kernelspec": {
   "display_name": "bayesee",
   "language": "python",
   "name": "python3"
  },
  "language_info": {
   "codemirror_mode": {
    "name": "ipython",
    "version": 3
   },
   "file_extension": ".py",
   "mimetype": "text/x-python",
   "name": "python",
   "nbconvert_exporter": "python",
   "pygments_lexer": "ipython3",
   "version": "3.11.3"
  },
  "orig_nbformat": 4
 },
 "nbformat": 4,
 "nbformat_minor": 2
}
