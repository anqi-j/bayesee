{
 "cells": [
  {
   "cell_type": "code",
   "execution_count": null,
   "metadata": {},
   "outputs": [],
   "source": [
    "import numpy as np\n",
    "import pandas as pd\n",
    "from pathlib import Path\n",
    "import matplotlib.pyplot as plt\n",
    "from matplotlib.colors import hsv_to_rgb\n",
    "from scipy.stats import ttest_rel, sem"
   ]
  },
  {
   "cell_type": "code",
   "execution_count": null,
   "metadata": {},
   "outputs": [],
   "source": [
    "%load_ext autoreload\n",
    "%autoreload 2\n",
    "plt.style.use('bayesee.academic')"
   ]
  },
  {
   "cell_type": "code",
   "execution_count": null,
   "metadata": {},
   "outputs": [],
   "source": [
    "repo_path = Path.cwd().parents[0]\n",
    "print(repo_path)"
   ]
  },
  {
   "cell_type": "code",
   "execution_count": null,
   "metadata": {},
   "outputs": [],
   "source": [
    "subject = \"AZ_t1\"\n",
    "p3_spatial_statistics = pd.read_csv(\n",
    "    repo_path / f\"data/covert-search/large-field/p3_spatial_statistics_{subject}.csv\"\n",
    ")\n",
    "p4_spatial_statistics = pd.read_csv(\n",
    "    repo_path / f\"data/covert-search/large-field/p4_spatial_statistics_{subject}.csv\"\n",
    ")"
   ]
  },
  {
   "cell_type": "code",
   "execution_count": null,
   "metadata": {},
   "outputs": [],
   "source": [
    "indexes_near = p4_spatial_statistics[\"id\"].values"
   ]
  },
  {
   "cell_type": "code",
   "execution_count": null,
   "metadata": {},
   "outputs": [],
   "source": [
    "large_field_near_region_hit = p3_spatial_statistics.loc[indexes_near - 1, \"hit_rate\"]\n",
    "large_field_near_region_miss = p3_spatial_statistics.loc[indexes_near - 1, \"miss_rate\"]\n",
    "large_field_near_region_fa = p3_spatial_statistics.loc[indexes_near - 1, \"fa_rate\"]"
   ]
  },
  {
   "cell_type": "code",
   "execution_count": null,
   "metadata": {},
   "outputs": [],
   "source": [
    "small_field_hit = p4_spatial_statistics[\"hit_rate\"]\n",
    "small_field_miss = p4_spatial_statistics[\"miss_rate\"]\n",
    "small_field_fa = p4_spatial_statistics[\"fa_rate\"]"
   ]
  },
  {
   "cell_type": "code",
   "execution_count": null,
   "metadata": {},
   "outputs": [],
   "source": [
    "n_location = len(p3_spatial_statistics) + 1\n",
    "\n",
    "orientation_hsv_color_map = np.zeros((n_location - 1, 3))\n",
    "orientation_hsv_color_map[:, 0] = p3_spatial_statistics[\"orientation\"]\n",
    "\n",
    "for index_location in range(n_location - 1):\n",
    "    orientation_hsv_color_map[index_location, 1] = 1\n",
    "\n",
    "    if index_location == 0:\n",
    "        orientation_hsv_color_map[index_location, 2] = 0\n",
    "    else:\n",
    "        orientation_hsv_color_map[index_location, 2] = 0.75\n",
    "\n",
    "rgb_orientation_color_map = hsv_to_rgb(orientation_hsv_color_map)"
   ]
  },
  {
   "cell_type": "code",
   "execution_count": null,
   "metadata": {},
   "outputs": [],
   "source": [
    "rgb_orientation_color_map[indexes_near - 1, :].shape"
   ]
  },
  {
   "cell_type": "code",
   "execution_count": null,
   "metadata": {},
   "outputs": [],
   "source": [
    "for paired_statistics in [\n",
    "    (large_field_near_region_hit, small_field_hit),\n",
    "    (large_field_near_region_miss, small_field_miss),\n",
    "    (large_field_near_region_fa, small_field_fa),\n",
    "]:\n",
    "    before, after = paired_statistics\n",
    "\n",
    "    fig, ax = plt.subplots()\n",
    "\n",
    "    for index_pair, point_before in enumerate(before):\n",
    "        ax.plot(\n",
    "            [0, 1],\n",
    "            [point_before, after[index_pair]],\n",
    "            \"-\",\n",
    "            linewidth=3,\n",
    "            color=rgb_orientation_color_map[indexes_near[index_pair] - 1, :],\n",
    "            alpha=0.75,\n",
    "        )\n",
    "\n",
    "    ax.errorbar(\n",
    "        [0, 1],\n",
    "        [before.mean(), after.mean()],\n",
    "        yerr=[sem(before), sem(after)],\n",
    "        color=\"black\",\n",
    "        linewidth=7,\n",
    "    )\n",
    "\n",
    "    ax.set(ylabel=\"Hit\", xticks=[0, 1])\n",
    "    ax.set_xticklabels([\"16-degree field\", \"8-degree field\"], fontsize=24)\n",
    "\n",
    "    plt.show()\n",
    "\n",
    "    t_val, p_val = ttest_rel(after, before)\n",
    "    print(\n",
    "        f\"Mean difference: {(after-before).mean():.3f}; (paired sample t-test) t-statistic: {t_val:.3f}, p-value: {p_val:.5f}.\"\n",
    "    )"
   ]
  },
  {
   "cell_type": "code",
   "execution_count": null,
   "metadata": {},
   "outputs": [],
   "source": []
  }
 ],
 "metadata": {
  "kernelspec": {
   "display_name": "bayesee",
   "language": "python",
   "name": "python3"
  },
  "language_info": {
   "codemirror_mode": {
    "name": "ipython",
    "version": 3
   },
   "file_extension": ".py",
   "mimetype": "text/x-python",
   "name": "python",
   "nbconvert_exporter": "python",
   "pygments_lexer": "ipython3",
   "version": "3.11.3"
  },
  "orig_nbformat": 4
 },
 "nbformat": 4,
 "nbformat_minor": 2
}
