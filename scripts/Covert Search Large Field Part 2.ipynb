{
 "cells": [
  {
   "cell_type": "code",
   "execution_count": null,
   "metadata": {},
   "outputs": [],
   "source": [
    "import numpy as np\n",
    "import pandas as pd\n",
    "from pathlib import Path\n",
    "from scipy.io import loadmat\n",
    "from scipy.stats import norm"
   ]
  },
  {
   "cell_type": "code",
   "execution_count": null,
   "metadata": {},
   "outputs": [],
   "source": [
    "import matplotlib.pyplot as plt\n",
    "import seaborn as sns\n",
    "from matplotlib.colors import hsv_to_rgb\n",
    "from matplotlib.patches import Circle"
   ]
  },
  {
   "cell_type": "code",
   "execution_count": null,
   "metadata": {},
   "outputs": [],
   "source": [
    "from bayesee.evaluation import *"
   ]
  },
  {
   "cell_type": "code",
   "execution_count": null,
   "metadata": {},
   "outputs": [],
   "source": [
    "%load_ext autoreload\n",
    "%autoreload 2\n",
    "plt.style.use('bayesee.academic')"
   ]
  },
  {
   "cell_type": "code",
   "execution_count": null,
   "metadata": {},
   "outputs": [],
   "source": [
    "repo_path = Path.cwd().parents[0]\n",
    "print(repo_path)"
   ]
  },
  {
   "cell_type": "code",
   "execution_count": null,
   "metadata": {},
   "outputs": [],
   "source": [
    "subject = \"AZ_t1\"\n",
    "file_name = repo_path / f\"data/covert-search/large-field/p2_data_{subject}.mat\"\n",
    "data = loadmat(file_name)\n",
    "print(data.keys())"
   ]
  },
  {
   "cell_type": "code",
   "execution_count": null,
   "metadata": {},
   "outputs": [],
   "source": [
    "target_amplitude = data[\"targetAmplitude\"]\n",
    "target_location = data[\"tLocation\"]\n",
    "spot_center = data[\"spotCenters\"]\n",
    "human_response = data[\"hResponse\"]\n",
    "n_location = data[\"nLocations\"][0][0]\n",
    "spot_diameter = data[\"spotLength\"][0][0]\n",
    "stimulus_design_size = data[\"totalLength\"][0][0]\n",
    "monitor_width = data[\"monitorPx\"][0][0]\n",
    "monitor_height = data[\"monitorPx\"][0][1]\n",
    "ppd = data[\"ppd\"][0][0]"
   ]
  },
  {
   "cell_type": "code",
   "execution_count": null,
   "metadata": {},
   "outputs": [],
   "source": [
    "shifted_spot_center = spot_center.copy()\n",
    "shifted_spot_center[:, 0] += (monitor_height - stimulus_design_size) // 2\n",
    "shifted_spot_center[:, 1] += (monitor_width - stimulus_design_size) // 2\n",
    "\n",
    "accurate_response = target_location == human_response"
   ]
  },
  {
   "cell_type": "code",
   "execution_count": null,
   "metadata": {},
   "outputs": [],
   "source": [
    "list_spot_region = [np.zeros(monitor_width, monitor_height)] * (n_location - 1)\n",
    "pixel_col, pixel_row = np.meshgrid(np.arange(monitor_width), np.arange(monitor_height))\n",
    "\n",
    "for index_location in range(n_location - 1):\n",
    "    list_spot_region[index_location] = (\n",
    "        pixel_row - shifted_spot_center[index_location, 0]\n",
    "    ) ** 2 + (\n",
    "        pixel_col - shifted_spot_center[index_location, 1]\n",
    "    ) ** 2 <= spot_diameter**2 / 4"
   ]
  },
  {
   "cell_type": "code",
   "execution_count": null,
   "metadata": {},
   "outputs": [],
   "source": [
    "stimulus_region = np.zeros((monitor_height, monitor_width))\n",
    "\n",
    "for index_location in range(n_location - 1):\n",
    "    stimulus_region[list_spot_region[index_location]] = 1"
   ]
  },
  {
   "cell_type": "code",
   "execution_count": null,
   "metadata": {},
   "outputs": [],
   "source": [
    "fig, ax = plt.subplots()\n",
    "ax.imshow(stimulus_region)\n",
    "\n",
    "for index_location in range(n_location - 1):\n",
    "    ax.text(\n",
    "        shifted_spot_center[index_location, 1],\n",
    "        shifted_spot_center[index_location, 0],\n",
    "        f\"{index_location+1}\",\n",
    "        ha=\"center\",\n",
    "        va=\"center\",\n",
    "    )"
   ]
  },
  {
   "cell_type": "code",
   "execution_count": null,
   "metadata": {},
   "outputs": [],
   "source": [
    "local_accuracy_region = np.empty((monitor_height, monitor_width))\n",
    "\n",
    "local_accuracy = accurate_response.mean(axis=(0, 1, 2))\n",
    "\n",
    "for index_location in range(n_location - 1):\n",
    "    local_accuracy_region[list_spot_region[index_location]] = local_accuracy[\n",
    "        index_location\n",
    "    ]"
   ]
  },
  {
   "cell_type": "code",
   "execution_count": null,
   "metadata": {},
   "outputs": [],
   "source": [
    "fig, ax = plt.subplots()\n",
    "ax.imshow(local_accuracy_region)\n",
    "\n",
    "for index_location in range(n_location - 1):\n",
    "    ax.text(\n",
    "        shifted_spot_center[index_location, 1],\n",
    "        shifted_spot_center[index_location, 0],\n",
    "        f\"{local_accuracy[index_location]:.3f}\",\n",
    "        ha=\"center\",\n",
    "        va=\"center\",\n",
    "    )"
   ]
  },
  {
   "cell_type": "code",
   "execution_count": null,
   "metadata": {},
   "outputs": [],
   "source": [
    "local_hit_region = np.empty((monitor_height, monitor_width))\n",
    "\n",
    "local_hit = np.array(\n",
    "    [\n",
    "        np.logical_and(\n",
    "            target_location[:, :, :, index_location] == index_location + 1,\n",
    "            human_response[:, :, :, index_location] == index_location + 1,\n",
    "        ).sum()\n",
    "        / (target_location[:, :, :, index_location] == index_location + 1).sum()\n",
    "        for index_location in range(n_location - 1)\n",
    "    ]\n",
    ")\n",
    "\n",
    "for index_location in range(n_location - 1):\n",
    "    local_hit_region[list_spot_region[index_location]] = local_hit[index_location]"
   ]
  },
  {
   "cell_type": "code",
   "execution_count": null,
   "metadata": {},
   "outputs": [],
   "source": [
    "fig, ax = plt.subplots()\n",
    "ax.imshow(local_hit_region)\n",
    "\n",
    "for index_location in range(n_location - 1):\n",
    "    ax.text(\n",
    "        shifted_spot_center[index_location, 1],\n",
    "        shifted_spot_center[index_location, 0],\n",
    "        f\"{local_hit[index_location]:.3f}\",\n",
    "        ha=\"center\",\n",
    "        va=\"center\",\n",
    "    )"
   ]
  },
  {
   "cell_type": "code",
   "execution_count": null,
   "metadata": {},
   "outputs": [],
   "source": [
    "local_cr_region = np.empty((monitor_height, monitor_width))\n",
    "\n",
    "local_cr = np.array(\n",
    "    [\n",
    "        np.logical_and(\n",
    "            target_location[:, :, :, index_location] == 0,\n",
    "            human_response[:, :, :, index_location] == 0,\n",
    "        ).sum()\n",
    "        / (target_location[:, :, :, index_location] == 0).sum()\n",
    "        for index_location in range(n_location - 1)\n",
    "    ]\n",
    ")\n",
    "\n",
    "for index_location in range(n_location - 1):\n",
    "    local_cr_region[list_spot_region[index_location]] = local_cr[index_location]"
   ]
  },
  {
   "cell_type": "code",
   "execution_count": null,
   "metadata": {},
   "outputs": [],
   "source": [
    "fig, ax = plt.subplots()\n",
    "ax.imshow(local_cr_region)\n",
    "\n",
    "for index_location in range(n_location - 1):\n",
    "    ax.text(\n",
    "        shifted_spot_center[index_location, 1],\n",
    "        shifted_spot_center[index_location, 0],\n",
    "        f\"{local_cr[index_location]:.2f}\",\n",
    "        ha=\"center\",\n",
    "        va=\"center\",\n",
    "    )"
   ]
  },
  {
   "cell_type": "code",
   "execution_count": null,
   "metadata": {},
   "outputs": [],
   "source": [
    "local_dp_region = np.empty((monitor_height, monitor_width))\n",
    "\n",
    "## Assumption: if we were to double the number of trials, one error would be made\n",
    "tol = 1e-5\n",
    "local_hit_for_dp = local_hit.copy()\n",
    "local_cr_for_dp = local_cr.copy()\n",
    "n_trials_by_location = target_location.size / target_location.shape[-1]\n",
    "assumed_local_accuracy = (n_trials_by_location * 2 - 1) / (n_trials_by_location * 2)\n",
    "\n",
    "for index_location in range(n_location - 1):\n",
    "    if abs(local_hit[index_location] - 1.0) < tol:\n",
    "        local_hit_for_dp[index_location] = assumed_local_accuracy\n",
    "\n",
    "    if abs(local_cr[index_location] - 1.0) < tol:\n",
    "        local_cr_for_dp[index_location] = assumed_local_accuracy\n",
    "\n",
    "\n",
    "local_dp = norm.ppf(local_hit_for_dp) - norm.ppf(1 - local_cr_for_dp)\n",
    "\n",
    "for index_location in range(n_location - 1):\n",
    "    local_dp_region[list_spot_region[index_location]] = local_dp[index_location]\n",
    "\n",
    "np.save(\n",
    "    repo_path / f\"data/covert-search/large-field/derived/est_dp_{subject}\", local_dp\n",
    ")"
   ]
  },
  {
   "cell_type": "code",
   "execution_count": null,
   "metadata": {},
   "outputs": [],
   "source": [
    "fig, ax = plt.subplots()\n",
    "ax.imshow(local_dp_region)\n",
    "\n",
    "for index_location in range(n_location - 1):\n",
    "    ax.text(\n",
    "        shifted_spot_center[index_location, 1],\n",
    "        shifted_spot_center[index_location, 0],\n",
    "        f\"{local_dp[index_location]:.3f}\",\n",
    "        ha=\"center\",\n",
    "        va=\"center\",\n",
    "    )"
   ]
  },
  {
   "cell_type": "code",
   "execution_count": null,
   "metadata": {},
   "outputs": [],
   "source": [
    "local_pc_max_region = np.empty((monitor_height, monitor_width))\n",
    "\n",
    "local_pc_max = norm.cdf(local_dp / 2)\n",
    "\n",
    "for index_location in range(n_location - 1):\n",
    "    local_pc_max_region[list_spot_region[index_location]] = local_pc_max[index_location]"
   ]
  },
  {
   "cell_type": "code",
   "execution_count": null,
   "metadata": {},
   "outputs": [],
   "source": [
    "fig, ax = plt.subplots()\n",
    "ax.imshow(local_pc_max_region)\n",
    "\n",
    "for index_location in range(n_location - 1):\n",
    "    ax.text(\n",
    "        shifted_spot_center[index_location, 1],\n",
    "        shifted_spot_center[index_location, 0],\n",
    "        f\"{local_pc_max[index_location]:.3f}\",\n",
    "        ha=\"center\",\n",
    "        va=\"center\",\n",
    "    )"
   ]
  },
  {
   "cell_type": "code",
   "execution_count": null,
   "metadata": {},
   "outputs": [],
   "source": [
    "array_eccentral_distance = np.zeros((n_location - 1,))\n",
    "\n",
    "for index_location in range(n_location - 1):\n",
    "    array_eccentral_distance[index_location] = np.sqrt(\n",
    "        (spot_center[index_location, 0] - stimulus_design_size // 2) ** 2\n",
    "        + (spot_center[index_location, 1] - stimulus_design_size // 2) ** 2\n",
    "    )\n",
    "\n",
    "array_eccentral_distance /= ppd\n",
    "\n",
    "print(array_eccentral_distance)"
   ]
  },
  {
   "cell_type": "code",
   "execution_count": null,
   "metadata": {},
   "outputs": [],
   "source": [
    "pixel_precision_array_eccentral_distance = array_eccentral_distance.copy()\n",
    "\n",
    "for index_d1, distance1 in enumerate(np.unique(array_eccentral_distance)):\n",
    "    for index_d2, distance2 in enumerate(\n",
    "        np.unique(array_eccentral_distance)[index_d1 + 1 :]\n",
    "    ):\n",
    "        if distance1 != distance2 and np.abs(distance2 - distance1) < 0.5:\n",
    "            print(index_d1, distance1, index_d2, distance2)\n",
    "            pixel_precision_array_eccentral_distance[\n",
    "                array_eccentral_distance == distance2\n",
    "            ] = distance1\n",
    "\n",
    "print(pixel_precision_array_eccentral_distance)"
   ]
  },
  {
   "cell_type": "code",
   "execution_count": null,
   "metadata": {},
   "outputs": [],
   "source": [
    "orientation_hsv_color_map = np.zeros((n_location - 1, 3))\n",
    "\n",
    "for index_location in range(n_location - 1):\n",
    "    dy = spot_center[index_location, 0] - stimulus_design_size // 2\n",
    "    dx = stimulus_design_size // 2 - spot_center[index_location, 1]\n",
    "    orientation_hsv_color_map[index_location, 0] = (1 - np.arctan2(dy, dx) / np.pi) / 2\n",
    "\n",
    "    orientation_hsv_color_map[index_location, 1] = 1\n",
    "\n",
    "    if dx == 0 and dy == 0:\n",
    "        orientation_hsv_color_map[index_location, 2] = 0\n",
    "    else:\n",
    "        orientation_hsv_color_map[index_location, 2] = 0.75\n",
    "\n",
    "rgb_orientation_color_map = hsv_to_rgb(orientation_hsv_color_map)"
   ]
  },
  {
   "cell_type": "code",
   "execution_count": null,
   "metadata": {},
   "outputs": [],
   "source": [
    "fig, ax = plt.subplots()\n",
    "stimulus_region = np.zeros((monitor_height, monitor_width))\n",
    "ax.imshow(stimulus_region)\n",
    "\n",
    "for index_location in range(n_location - 1):\n",
    "    circle = Circle(\n",
    "        (\n",
    "            shifted_spot_center[index_location, 1],\n",
    "            shifted_spot_center[index_location, 0],\n",
    "        ),\n",
    "        spot_diameter / 2,\n",
    "        color=rgb_orientation_color_map[index_location],\n",
    "        linewidth=1,\n",
    "    )\n",
    "    ax.add_patch(circle)\n",
    "\n",
    "    ax.text(\n",
    "        shifted_spot_center[index_location, 1],\n",
    "        shifted_spot_center[index_location, 0],\n",
    "        f\"{index_location+1}\",\n",
    "        ha=\"center\",\n",
    "        va=\"center\",\n",
    "        c=\"w\",\n",
    "    )"
   ]
  },
  {
   "cell_type": "code",
   "execution_count": null,
   "metadata": {},
   "outputs": [],
   "source": [
    "fig, ax = plt.subplots()\n",
    "ax.scatter(\n",
    "    pixel_precision_array_eccentral_distance,\n",
    "    local_accuracy,\n",
    "    s=250,\n",
    "    c=rgb_orientation_color_map,\n",
    ")\n",
    "\n",
    "ax.set(xlabel=\"Eccentral distance (deg)\", ylabel=\"Accuracy\")\n",
    "\n",
    "inner_ax = fig.add_axes([0.2, 0.1, 0.288, 0.461])\n",
    "inner_ax.imshow(stimulus_region)\n",
    "inner_ax.set(xticks=[], yticks=[])\n",
    "\n",
    "for index_location in range(n_location - 1):\n",
    "    circle = Circle(\n",
    "        (\n",
    "            shifted_spot_center[index_location, 1],\n",
    "            shifted_spot_center[index_location, 0],\n",
    "        ),\n",
    "        spot_diameter / 2,\n",
    "        color=rgb_orientation_color_map[index_location],\n",
    "        linewidth=1,\n",
    "    )\n",
    "    inner_ax.add_patch(circle)\n",
    "\n",
    "    inner_ax.text(\n",
    "        shifted_spot_center[index_location, 1],\n",
    "        shifted_spot_center[index_location, 0],\n",
    "        f\"{index_location+1}\",\n",
    "        ha=\"center\",\n",
    "        va=\"center\",\n",
    "        c=\"w\",\n",
    "        fontsize=16,\n",
    "    )\n",
    "\n",
    "plt.show()"
   ]
  },
  {
   "cell_type": "code",
   "execution_count": null,
   "metadata": {},
   "outputs": [],
   "source": [
    "fig, ax = plt.subplots()\n",
    "ax.scatter(array_eccentral_distance, local_hit, s=250, c=rgb_orientation_color_map)\n",
    "\n",
    "ax.set(xlabel=\"Eccentral distance (deg)\", ylabel=\"Hit\")\n",
    "\n",
    "inner_ax = fig.add_axes([0.2, 0.1, 0.288, 0.461])\n",
    "inner_ax.imshow(stimulus_region)\n",
    "inner_ax.set(xticks=[], yticks=[])\n",
    "\n",
    "for index_location in range(n_location - 1):\n",
    "    circle = Circle(\n",
    "        (\n",
    "            shifted_spot_center[index_location, 1],\n",
    "            shifted_spot_center[index_location, 0],\n",
    "        ),\n",
    "        spot_diameter / 2,\n",
    "        color=rgb_orientation_color_map[index_location],\n",
    "        linewidth=1,\n",
    "    )\n",
    "    inner_ax.add_patch(circle)\n",
    "\n",
    "    inner_ax.text(\n",
    "        shifted_spot_center[index_location, 1],\n",
    "        shifted_spot_center[index_location, 0],\n",
    "        f\"{index_location+1}\",\n",
    "        ha=\"center\",\n",
    "        va=\"center\",\n",
    "        c=\"w\",\n",
    "        fontsize=16,\n",
    "    )\n",
    "\n",
    "plt.show()"
   ]
  },
  {
   "cell_type": "code",
   "execution_count": null,
   "metadata": {},
   "outputs": [],
   "source": [
    "fig, ax = plt.subplots()\n",
    "ax.scatter(array_eccentral_distance, local_cr, s=250, c=rgb_orientation_color_map)\n",
    "\n",
    "ax.set(xlabel=\"Eccentral distance (deg)\", ylabel=\"Correct rejection\")\n",
    "\n",
    "inner_ax = fig.add_axes([0.2, 0.1, 0.288, 0.461])\n",
    "inner_ax.imshow(stimulus_region)\n",
    "inner_ax.set(xticks=[], yticks=[])\n",
    "\n",
    "for index_location in range(n_location - 1):\n",
    "    circle = Circle(\n",
    "        (\n",
    "            shifted_spot_center[index_location, 1],\n",
    "            shifted_spot_center[index_location, 0],\n",
    "        ),\n",
    "        spot_diameter / 2,\n",
    "        color=rgb_orientation_color_map[index_location],\n",
    "        linewidth=1,\n",
    "    )\n",
    "    inner_ax.add_patch(circle)\n",
    "\n",
    "    inner_ax.text(\n",
    "        shifted_spot_center[index_location, 1],\n",
    "        shifted_spot_center[index_location, 0],\n",
    "        f\"{index_location+1}\",\n",
    "        ha=\"center\",\n",
    "        va=\"center\",\n",
    "        c=\"w\",\n",
    "        fontsize=16,\n",
    "    )\n",
    "\n",
    "plt.show()"
   ]
  },
  {
   "cell_type": "code",
   "execution_count": null,
   "metadata": {},
   "outputs": [],
   "source": [
    "local_accuracy_by_session = accurate_response.mean(axis=(0, 2))\n",
    "n_session = local_accuracy_by_session.shape[0]\n",
    "array_index_location = np.arange(1, n_location)"
   ]
  },
  {
   "cell_type": "code",
   "execution_count": null,
   "metadata": {},
   "outputs": [],
   "source": [
    "fig, ax = plt.subplots()\n",
    "\n",
    "for index_session in range(n_session):\n",
    "    ax.scatter(\n",
    "        array_index_location,\n",
    "        local_accuracy_by_session[index_session, :],\n",
    "        s=250,\n",
    "        label=f\"Session {index_session+1}\",\n",
    "    )\n",
    "\n",
    "ax.legend(loc=\"best\")\n",
    "ax.set(xlabel=\"Spot\", ylabel=\"Accuracy\", xticks=array_index_location)\n",
    "plt.show()"
   ]
  },
  {
   "cell_type": "code",
   "execution_count": null,
   "metadata": {},
   "outputs": [],
   "source": []
  }
 ],
 "metadata": {
  "kernelspec": {
   "display_name": "bayesee",
   "language": "python",
   "name": "python3"
  },
  "language_info": {
   "codemirror_mode": {
    "name": "ipython",
    "version": 3
   },
   "file_extension": ".py",
   "mimetype": "text/x-python",
   "name": "python",
   "nbconvert_exporter": "python",
   "pygments_lexer": "ipython3",
   "version": "3.11.3"
  },
  "orig_nbformat": 4
 },
 "nbformat": 4,
 "nbformat_minor": 2
}
