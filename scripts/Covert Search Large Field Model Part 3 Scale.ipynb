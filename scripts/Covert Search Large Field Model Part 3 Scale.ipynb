{
 "cells": [
  {
   "cell_type": "code",
   "execution_count": null,
   "metadata": {},
   "outputs": [],
   "source": [
    "import numpy as np\n",
    "import pandas as pd\n",
    "from pathlib import Path\n",
    "from scipy.io import loadmat\n",
    "from scipy.stats import norm\n",
    "import pickle"
   ]
  },
  {
   "cell_type": "code",
   "execution_count": null,
   "metadata": {},
   "outputs": [],
   "source": [
    "import matplotlib.pyplot as plt\n",
    "import seaborn as sns\n",
    "from matplotlib.colors import hsv_to_rgb\n",
    "from matplotlib.patches import Circle"
   ]
  },
  {
   "cell_type": "code",
   "execution_count": null,
   "metadata": {},
   "outputs": [],
   "source": [
    "from bayesee.evaluation import *"
   ]
  },
  {
   "cell_type": "code",
   "execution_count": null,
   "metadata": {},
   "outputs": [],
   "source": [
    "%load_ext autoreload\n",
    "%autoreload 2\n",
    "plt.style.use('bayesee.academic')"
   ]
  },
  {
   "cell_type": "code",
   "execution_count": null,
   "metadata": {},
   "outputs": [],
   "source": [
    "repo_path = Path.cwd().parents[0]\n",
    "print(repo_path)"
   ]
  },
  {
   "cell_type": "code",
   "execution_count": null,
   "metadata": {},
   "outputs": [],
   "source": [
    "subject = \"AZ\"\n",
    "file_name = repo_path / f\"data/covert-search/large-field/p3_data_{subject}.pickle\"\n",
    "\n",
    "with open(file_name, \"rb\") as f:\n",
    "    stimulus, response = pickle.load(f)\n",
    "\n",
    "metadata = stimulus[\"metadata\"]\n",
    "spot_centers = metadata[\"spot_centers\"]\n",
    "monitor_width, monitor_height = metadata[\"monitor_size\"]\n",
    "stimulus_size = metadata[\"stimulus_size\"]\n",
    "n_location = metadata[\"n_location\"]\n",
    "spot_size = metadata[\"spot_size\"]\n",
    "stimulus_ppd = metadata[\"stimulus_ppd\"]\n",
    "target_amplitude = metadata[\"target_amplitude\"]\n",
    "target = metadata[\"target\"]\n",
    "\n",
    "file_name = (\n",
    "    repo_path\n",
    "    / f\"data/covert-search/large-field/derived/p2_spatial_statistics_{subject}.csv\"\n",
    ")\n",
    "spatial_statistics_human = pd.read_csv(file_name)\n",
    "local_dp = spatial_statistics_human[\"dp\"].values\n",
    "\n",
    "location_near = np.arange(1, n_location)[\n",
    "    spatial_statistics_human[\"ecc\"] < spot_size * 1.5 / stimulus_ppd\n",
    "]\n",
    "n_location_near = len(location_near)\n",
    "\n",
    "location_far = np.arange(1, n_location)[\n",
    "    spatial_statistics_human[\"ecc\"] >= spot_size * 1.5 / stimulus_ppd\n",
    "]"
   ]
  },
  {
   "cell_type": "code",
   "execution_count": null,
   "metadata": {},
   "outputs": [],
   "source": [
    "prior = np.array((0.5, *((0.5 / (n_location - 1),) * (n_location - 1))))\n",
    "assert np.allclose(prior.sum(), 1.0)\n",
    "log_prior_ratio = np.log(prior / prior[0])\n",
    "log_likelihood_ratio = np.zeros_like(prior)\n",
    "\n",
    "n_trial = 20000\n",
    "\n",
    "target_location = np.zeros((n_trial,), dtype=np.int64)\n",
    "target_location[: n_trial // 2] = np.random.randint(1, n_location, size=n_trial // 2)\n",
    "response_location = np.zeros_like(target_location)\n",
    "\n",
    "assert np.allclose(np.dot(target.flatten(), target.flatten()), 1.0)"
   ]
  },
  {
   "cell_type": "code",
   "execution_count": null,
   "metadata": {},
   "outputs": [],
   "source": [
    "array_scale_dp = np.linspace(0, 6, 20)\n",
    "model_simulation = pd.DataFrame()\n",
    "\n",
    "for scale_dp in array_scale_dp:\n",
    "    scale_local_dp = scale_dp * local_dp\n",
    "\n",
    "    for index_trial in range(n_trial):\n",
    "        array_standard_normal = np.random.normal(size=(n_location - 1,))\n",
    "        log_likelihood_ratio[1:] = (\n",
    "            array_standard_normal * scale_local_dp - scale_local_dp**2 / 2\n",
    "        )\n",
    "        if target_location[index_trial] > 0:\n",
    "            log_likelihood_ratio[target_location[index_trial]] += (\n",
    "                scale_local_dp[target_location[index_trial] - 1] ** 2\n",
    "            )\n",
    "\n",
    "        log_posterior_ratio = log_prior_ratio + log_likelihood_ratio\n",
    "        response_location[index_trial] = np.argmax(log_posterior_ratio)\n",
    "\n",
    "    model_simulation = pd.concat(\n",
    "        [\n",
    "            model_simulation,\n",
    "            pd.DataFrame(\n",
    "                {\n",
    "                    \"scale_dp\": scale_dp,\n",
    "                    \"location\": target_location,\n",
    "                    \"response_location\": response_location,\n",
    "                }\n",
    "            ),\n",
    "        ],\n",
    "        ignore_index=True,\n",
    "    )"
   ]
  },
  {
   "cell_type": "code",
   "execution_count": null,
   "metadata": {},
   "outputs": [],
   "source": [
    "file_name = (\n",
    "    repo_path\n",
    "    / f\"data/covert-search/large-field/derived/p3_scaled_ideal_observer_for_{subject}.csv\"\n",
    ")\n",
    "\n",
    "model_simulation.to_csv(\n",
    "    file_name,\n",
    "    index=False,\n",
    ")"
   ]
  },
  {
   "cell_type": "code",
   "execution_count": null,
   "metadata": {},
   "outputs": [],
   "source": [
    "file_name = (\n",
    "    repo_path\n",
    "    / f\"data/covert-search/large-field/derived/p3_scaled_ideal_observer_for_{subject}.csv\"\n",
    ")\n",
    "\n",
    "model_simulation = pd.read_csv(file_name)\n",
    "array_scale_dp = model_simulation[\"scale_dp\"]\n",
    "target_location = model_simulation[\"location\"]\n",
    "response_location = model_simulation[\"response_location\"]\n",
    "accurate_response = target_location == response_location"
   ]
  },
  {
   "cell_type": "code",
   "execution_count": null,
   "metadata": {},
   "outputs": [],
   "source": [
    "unique_scale_dp = array_scale_dp.unique()\n",
    "overall_accuracy = np.zeros_like(unique_scale_dp)\n",
    "overall_cr_rate = np.zeros_like(unique_scale_dp)\n",
    "overall_hit_rate = np.zeros_like(unique_scale_dp)\n",
    "near_hit_rate = np.zeros_like(unique_scale_dp)\n",
    "far_hit_rate = np.zeros_like(unique_scale_dp)\n",
    "\n",
    "for scale_index, scale_dp in enumerate(unique_scale_dp):\n",
    "    scale_condition = array_scale_dp == scale_dp\n",
    "    overall_accuracy[scale_index] = accurate_response[scale_condition].mean()\n",
    "    overall_cr_rate[scale_index] = accurate_response[\n",
    "        scale_condition & (target_location == 0)\n",
    "    ].mean()\n",
    "    overall_hit_rate[scale_index] = accurate_response[\n",
    "        scale_condition & (target_location != 0)\n",
    "    ].mean()\n",
    "    near_hit_rate[scale_index] = accurate_response[\n",
    "        scale_condition & np.isin(target_location, location_near)\n",
    "    ].mean()\n",
    "    far_hit_rate[scale_index] = accurate_response[\n",
    "        scale_condition & np.isin(target_location, location_far)\n",
    "    ].mean()"
   ]
  },
  {
   "cell_type": "code",
   "execution_count": null,
   "metadata": {},
   "outputs": [],
   "source": [
    "fig, ax = plt.subplots()\n",
    "ax.plot(unique_scale_dp, overall_accuracy, label=\"overall_accuracy\")\n",
    "ax.plot(unique_scale_dp, overall_cr_rate, label=\"overall_cr_rate\")\n",
    "ax.plot(unique_scale_dp, overall_hit_rate, label=\"overall_hit_rate\")\n",
    "ax.plot(unique_scale_dp, near_hit_rate, label=\"near_hit_rate\")\n",
    "ax.plot(unique_scale_dp, far_hit_rate, label=\"far_hit_rate\")\n",
    "\n",
    "ax.legend(loc=\"best\")\n",
    "ax.set(xlim=(0, 6), xlabel=\"d' Scaling Factor\", ylabel=\"Value\")"
   ]
  },
  {
   "cell_type": "code",
   "execution_count": null,
   "metadata": {},
   "outputs": [],
   "source": []
  }
 ],
 "metadata": {
  "kernelspec": {
   "display_name": "bayesee",
   "language": "python",
   "name": "python3"
  },
  "language_info": {
   "codemirror_mode": {
    "name": "ipython",
    "version": 3
   },
   "file_extension": ".py",
   "mimetype": "text/x-python",
   "name": "python",
   "nbconvert_exporter": "python",
   "pygments_lexer": "ipython3",
   "version": "3.11.3"
  },
  "orig_nbformat": 4
 },
 "nbformat": 4,
 "nbformat_minor": 2
}
