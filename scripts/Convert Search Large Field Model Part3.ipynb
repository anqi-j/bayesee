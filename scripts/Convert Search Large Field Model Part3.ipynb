{
 "cells": [
  {
   "cell_type": "code",
   "execution_count": null,
   "metadata": {},
   "outputs": [],
   "source": [
    "import numpy as np\n",
    "import pandas as pd\n",
    "from pathlib import Path\n",
    "from scipy.io import loadmat\n",
    "from scipy.signal import correlate2d\n",
    "from sklearn.metrics import confusion_matrix"
   ]
  },
  {
   "cell_type": "code",
   "execution_count": null,
   "metadata": {},
   "outputs": [],
   "source": [
    "import matplotlib.pyplot as plt\n",
    "import seaborn as sns"
   ]
  },
  {
   "cell_type": "code",
   "execution_count": null,
   "metadata": {},
   "outputs": [],
   "source": [
    "from bayesee.generation import *"
   ]
  },
  {
   "cell_type": "code",
   "execution_count": null,
   "metadata": {},
   "outputs": [],
   "source": [
    "%load_ext autoreload\n",
    "%autoreload 2\n",
    "plt.style.use('bayesee.academic')"
   ]
  },
  {
   "cell_type": "code",
   "execution_count": null,
   "metadata": {},
   "outputs": [],
   "source": [
    "repo_path = Path.cwd().parents[0]\n",
    "print(repo_path)"
   ]
  },
  {
   "cell_type": "code",
   "execution_count": null,
   "metadata": {},
   "outputs": [],
   "source": [
    "subject = 'AZ_t1'\n",
    "file_name = repo_path / f'data/covert-search/large-field/est_dp_{subject}.npy'\n",
    "local_dp = np.load(file_name)\n",
    "print(local_dp)"
   ]
  },
  {
   "cell_type": "code",
   "execution_count": null,
   "metadata": {},
   "outputs": [],
   "source": [
    "file_name = repo_path / f'data/covert-search/large-field/p3_data_{subject}.mat'\n",
    "data = loadmat(file_name)\n",
    "print(data.keys())"
   ]
  },
  {
   "cell_type": "code",
   "execution_count": null,
   "metadata": {},
   "outputs": [],
   "source": [
    "target_amplitude = data['targetAmplitude']\n",
    "spot_center = data['spotCenters']\n",
    "n_location = data['nLocations'][0][0]\n",
    "spot_diameter = data['spotLength'][0][0]\n",
    "stimulus_design_size= data['totalLength'][0][0]\n",
    "monitor_width = data['monitorPx'][0][0]\n",
    "monitor_height = data['monitorPx'][0][1]\n",
    "ppd = data['ppd'][0][0]\n",
    "target = data['targets']\n",
    "background_mean = data['bgMean'][0][0]\n",
    "background_std = data['bgContrast'][0][0] * background_mean"
   ]
  },
  {
   "cell_type": "code",
   "execution_count": null,
   "metadata": {},
   "outputs": [],
   "source": [
    "shifted_spot_center = spot_center.copy()\n",
    "shifted_spot_center[:,0] += (monitor_height - stimulus_design_size)//2\n",
    "shifted_spot_center[:,1] += (monitor_width - stimulus_design_size)//2"
   ]
  },
  {
   "cell_type": "code",
   "execution_count": null,
   "metadata": {},
   "outputs": [],
   "source": [
    "print(f'N Location:{n_location-1}\\nTarget Size:{target.shape}\\nBackground Mean:{background_mean}\\nBackground STD:{background_std}')"
   ]
  },
  {
   "cell_type": "code",
   "execution_count": null,
   "metadata": {},
   "outputs": [],
   "source": [
    "def infinite_white_noises(n=19, size=(30,30), mean=128, std=25.6):\n",
    "    while True:\n",
    "        noises = np.random.normal(size=(n, *size))\n",
    "        yield std*noises/noises.std()+mean"
   ]
  },
  {
   "cell_type": "code",
   "execution_count": null,
   "metadata": {},
   "outputs": [],
   "source": [
    "prior = np.array((0.5, *((0.5/(n_location-1),)*(n_location-1))))\n",
    "assert np.allclose(prior.sum(), 1.0)\n",
    "log_prior = np.log(prior)\n",
    "log_likelihood = np.ones_like(prior)"
   ]
  },
  {
   "cell_type": "code",
   "execution_count": null,
   "metadata": {},
   "outputs": [],
   "source": [
    "n_trials = 800\n",
    "the_target_amplitude = target_amplitude[0,0,0]\n",
    "\n",
    "target_location = np.zeros((n_trials,))\n",
    "target_location[:n_trials//2] = np.random.randint(1,n_location,size=n_trials//2)\n",
    "model_response = np.zeros_like(target_location)\n",
    "\n",
    "assert np.allclose(np.dot(target.flatten(), target.flatten()),1.0)\n",
    "\n",
    "for index_trial in range(n_trials):\n",
    "    white_noises = next(infinite_white_noises())\n",
    "    for index_location in range(n_location-1):\n",
    "        effect_background_std = the_target_amplitude / local_dp[index_location]\n",
    "        effect_background = white_noises[index_location,:,:].flatten() / background_std * effect_background_std\n",
    "\n",
    "        log_likelihood[index_location+1] = the_target_amplitude / effect_background_std**2 * (np.dot(target.flatten(), effect_background)-the_target_amplitude/2)\n",
    "        \n",
    "        if target_location[index_trial] == index_location+1:\n",
    "            log_likelihood[index_location+1] += local_dp[index_location]**2\n",
    "\n",
    "    log_posterior = log_prior + log_likelihood\n",
    "    model_response[index_trial] = np.argmax(log_posterior)"
   ]
  },
  {
   "cell_type": "code",
   "execution_count": null,
   "metadata": {},
   "outputs": [],
   "source": [
    "list_spot_region = [np.zeros(monitor_width,monitor_height)] * (n_location-1)\n",
    "pixel_col, pixel_row = np.meshgrid(np.arange(monitor_width), np.arange(monitor_height))\n",
    "\n",
    "for index_location in range(n_location-1):\n",
    "     list_spot_region[index_location] = (pixel_row - shifted_spot_center[index_location, 0])**2+(pixel_col - shifted_spot_center[index_location, 1])**2<= spot_diameter**2/4"
   ]
  },
  {
   "cell_type": "code",
   "execution_count": null,
   "metadata": {},
   "outputs": [],
   "source": [
    "stimulus_region = np.zeros((monitor_height, monitor_width))\n",
    "\n",
    "for index_location in range(n_location-1):\n",
    "    stimulus_region[list_spot_region[index_location]] = 1"
   ]
  },
  {
   "cell_type": "code",
   "execution_count": null,
   "metadata": {},
   "outputs": [],
   "source": [
    "array_eccentral_distance = np.zeros((n_location-1,))\n",
    "\n",
    "for index_location in range(n_location-1):\n",
    "    array_eccentral_distance[index_location] = np.sqrt((spot_center[index_location, 0] - stimulus_design_size//2)**2+(spot_center[index_location, 1] - stimulus_design_size//2)**2)\n",
    "\n",
    "array_eccentral_distance /= ppd\n",
    "\n",
    "print(array_eccentral_distance)"
   ]
  },
  {
   "cell_type": "code",
   "execution_count": null,
   "metadata": {},
   "outputs": [],
   "source": [
    "pixel_precision_array_eccentral_distance = array_eccentral_distance.copy()\n",
    "\n",
    "for index_d1, distance1 in enumerate(np.unique(array_eccentral_distance)):\n",
    "    for index_d2, distance2 in enumerate(np.unique(array_eccentral_distance)[index_d1+1:]):\n",
    "        if distance1 != distance2 and np.abs(distance2 - distance1) < 0.5:\n",
    "            print(index_d1, distance1, index_d2, distance2)\n",
    "            pixel_precision_array_eccentral_distance[array_eccentral_distance==distance2] = distance1\n",
    "\n",
    "print(pixel_precision_array_eccentral_distance)"
   ]
  },
  {
   "cell_type": "code",
   "execution_count": null,
   "metadata": {},
   "outputs": [],
   "source": [
    "eccentral_distance_sorted_indexes = np.argsort(pixel_precision_array_eccentral_distance, kind='stable')\n",
    "extra_eccentral_distance_sorted_indexes = np.insert(eccentral_distance_sorted_indexes+1,0,0)\n",
    "print(extra_eccentral_distance_sorted_indexes)"
   ]
  },
  {
   "cell_type": "code",
   "execution_count": null,
   "metadata": {},
   "outputs": [],
   "source": [
    "accurate_response = target_location == model_response\n",
    "confusion_mat = confusion_matrix(model_response.flatten(), target_location.flatten(), labels=range(n_location))[extra_eccentral_distance_sorted_indexes, :][:, extra_eccentral_distance_sorted_indexes]\n",
    "array_index_location = np.arange(n_location)[extra_eccentral_distance_sorted_indexes]"
   ]
  },
  {
   "cell_type": "code",
   "execution_count": null,
   "metadata": {},
   "outputs": [],
   "source": [
    "accurate_response = target_location == model_response\n",
    "confusion_mat = confusion_matrix(model_response.flatten(), target_location.flatten(), labels=range(n_location))[extra_eccentral_distance_sorted_indexes, :][:, extra_eccentral_distance_sorted_indexes]\n",
    "array_index_location = np.arange(n_location)[extra_eccentral_distance_sorted_indexes]"
   ]
  },
  {
   "cell_type": "code",
   "execution_count": null,
   "metadata": {},
   "outputs": [],
   "source": [
    "correct_rejection = confusion_mat[0][0]\n",
    "second_largest_confusion_mat = np.max(np.delete(confusion_mat, np.where(confusion_mat == correct_rejection)))\n",
    "plotted_confusion_mat = confusion_mat.copy()\n",
    "plotted_confusion_mat[0][0] = second_largest_confusion_mat\n",
    "print(second_largest_confusion_mat)"
   ]
  },
  {
   "cell_type": "code",
   "execution_count": null,
   "metadata": {},
   "outputs": [],
   "source": [
    "fig, ax = plt.subplots(figsize=(15,12))\n",
    "im = ax.imshow(plotted_confusion_mat)\n",
    "\n",
    "for index_target_location in array_index_location:\n",
    "    for index_model_response in array_index_location:\n",
    "        if not (-index_target_location == 0 and index_model_response == 0):\n",
    "            ax.text(index_model_response, index_target_location, f'{confusion_mat[index_target_location, index_model_response]:.0f}', ha='center', va='center')\n",
    "\n",
    "ax.annotate(f'{correct_rejection:.0f}', xy=(0, 0), xytext=(-0.5,-1), arrowprops=dict(facecolor='black', shrink=0.05))\n",
    "\n",
    "ax.set(xticks=np.arange(n_location), yticks=np.arange(n_location), xticklabels=array_index_location, yticklabels=array_index_location, xlabel='Target location sorted by eccentral distance', ylabel='Model response sorted by eccentral distance')\n",
    "\n",
    "plt.show()"
   ]
  },
  {
   "cell_type": "code",
   "execution_count": null,
   "metadata": {},
   "outputs": [],
   "source": []
  }
 ],
 "metadata": {
  "kernelspec": {
   "display_name": "bayesee",
   "language": "python",
   "name": "python3"
  },
  "language_info": {
   "codemirror_mode": {
    "name": "ipython",
    "version": 3
   },
   "file_extension": ".py",
   "mimetype": "text/x-python",
   "name": "python",
   "nbconvert_exporter": "python",
   "pygments_lexer": "ipython3",
   "version": "3.11.3"
  },
  "orig_nbformat": 4
 },
 "nbformat": 4,
 "nbformat_minor": 2
}
