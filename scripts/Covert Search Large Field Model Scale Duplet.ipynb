{
 "cells": [
  {
   "cell_type": "code",
   "execution_count": null,
   "metadata": {},
   "outputs": [],
   "source": [
    "import numpy as np\n",
    "import pandas as pd\n",
    "from pathlib import Path\n",
    "from scipy.io import loadmat\n",
    "from scipy.stats import norm\n",
    "import pickle"
   ]
  },
  {
   "cell_type": "code",
   "execution_count": null,
   "metadata": {},
   "outputs": [],
   "source": [
    "import matplotlib.pyplot as plt\n",
    "import seaborn as sns\n",
    "from matplotlib.colors import hsv_to_rgb\n",
    "from matplotlib.patches import Circle"
   ]
  },
  {
   "cell_type": "code",
   "execution_count": null,
   "metadata": {},
   "outputs": [],
   "source": [
    "from bayesee.evaluation import *"
   ]
  },
  {
   "cell_type": "code",
   "execution_count": null,
   "metadata": {},
   "outputs": [],
   "source": [
    "%load_ext autoreload\n",
    "%autoreload 2\n",
    "plt.style.use('bayesee.academic')"
   ]
  },
  {
   "cell_type": "code",
   "execution_count": null,
   "metadata": {},
   "outputs": [],
   "source": [
    "repo_path = Path.cwd().parents[0]\n",
    "print(repo_path)"
   ]
  },
  {
   "cell_type": "code",
   "execution_count": null,
   "metadata": {},
   "outputs": [],
   "source": [
    "prior = np.array((0.5, 0.25, 0.25))\n",
    "assert np.allclose(prior.sum(), 1.0)\n",
    "log_prior_ratio = np.log(prior / prior[0])\n",
    "log_likelihood_ratio = np.zeros_like(prior)\n",
    "\n",
    "n_trial = 80000\n",
    "\n",
    "target_location = np.zeros((n_trial,), dtype=np.int64)\n",
    "target_location[: n_trial // 2] = np.random.randint(1, 3, size=n_trial // 2)\n",
    "response_location = np.zeros_like(target_location, dtype=np.int64)"
   ]
  },
  {
   "cell_type": "code",
   "execution_count": null,
   "metadata": {},
   "outputs": [],
   "source": [
    "array_dp_base = np.array((1.25, 1.875, 2.5, 3.75, 5.0))\n",
    "\n",
    "for dp_base in array_dp_base:\n",
    "    array_ratio = np.linspace(0, 2, 20)\n",
    "    model_simulation = pd.DataFrame()\n",
    "\n",
    "    for ratio in array_ratio:\n",
    "        ratio_local_dp = np.array([dp_base, dp_base * ratio])\n",
    "\n",
    "        for index_trial in range(n_trial):\n",
    "            array_standard_normal = np.random.normal(size=(2,))\n",
    "            log_likelihood_ratio[1:] = (\n",
    "                array_standard_normal * ratio_local_dp - ratio_local_dp**2 / 2\n",
    "            )\n",
    "            if target_location[index_trial] > 0:\n",
    "                log_likelihood_ratio[target_location[index_trial]] += (\n",
    "                    ratio_local_dp[target_location[index_trial] - 1] ** 2\n",
    "                )\n",
    "\n",
    "            log_posterior_ratio = log_prior_ratio + log_likelihood_ratio\n",
    "            response_location[index_trial] = np.argmax(log_posterior_ratio)\n",
    "\n",
    "        model_simulation = pd.concat(\n",
    "            [\n",
    "                model_simulation,\n",
    "                pd.DataFrame(\n",
    "                    {\n",
    "                        \"ratio\": ratio,\n",
    "                        \"location\": target_location,\n",
    "                        \"response_location\": response_location,\n",
    "                    }\n",
    "                ),\n",
    "            ],\n",
    "            ignore_index=True,\n",
    "        )\n",
    "\n",
    "    file_name = (\n",
    "        repo_path\n",
    "        / f\"data/covert-search/large-field/no-sync/scaled_duplet_ideal_observer_base{dp_base}.csv\"\n",
    "    )\n",
    "\n",
    "    model_simulation.to_csv(\n",
    "        file_name,\n",
    "        index=False,\n",
    "    )"
   ]
  },
  {
   "cell_type": "code",
   "execution_count": null,
   "metadata": {},
   "outputs": [],
   "source": [
    "array_color = [\n",
    "    \"#BD5500\",\n",
    "    \"#0077BB\",\n",
    "    \"#33BBEE\",\n",
    "    \"#EE3377\",\n",
    "    \"#009988\",\n",
    "    \"#CC3311\",\n",
    "    \"#BBBBBB\",\n",
    "]\n",
    "\n",
    "fig, axs = plt.subplots(nrows=3, ncols=1, figsize=(8, 20))\n",
    "for dp_base_index, dp_base in enumerate(array_dp_base):\n",
    "    file_name = (\n",
    "        repo_path\n",
    "        / f\"data/covert-search/large-field/no-sync/scaled_duplet_ideal_observer_base{dp_base}.csv\"\n",
    "    )\n",
    "\n",
    "    model_simulation = pd.read_csv(file_name)\n",
    "    array_ratio = model_simulation[\"ratio\"]\n",
    "    target_location = model_simulation[\"location\"]\n",
    "    response_location = model_simulation[\"response_location\"]\n",
    "    accurate_response = target_location == response_location\n",
    "\n",
    "    unique_ratio = array_ratio.unique()\n",
    "    overall_accuracy = np.zeros_like(unique_ratio)\n",
    "    overall_cr_rate = np.zeros_like(unique_ratio)\n",
    "    overall_hit_rate = np.zeros_like(unique_ratio)\n",
    "\n",
    "    for ratio_index, ratio in enumerate(unique_ratio):\n",
    "        ratio_condition = array_ratio == ratio\n",
    "        overall_accuracy[ratio_index] = accurate_response[ratio_condition].mean()\n",
    "        overall_cr_rate[ratio_index] = accurate_response[\n",
    "            ratio_condition & (target_location == 0)\n",
    "        ].mean()\n",
    "        overall_hit_rate[ratio_index] = accurate_response[\n",
    "            ratio_condition & (target_location != 0)\n",
    "        ].mean()\n",
    "\n",
    "    axs[0].plot(\n",
    "        unique_ratio,\n",
    "        overall_accuracy,\n",
    "        c=array_color[dp_base_index],\n",
    "        label=f\"dp_base={dp_base}\",\n",
    "    )\n",
    "\n",
    "    axs[1].plot(unique_ratio, overall_cr_rate, c=array_color[dp_base_index])\n",
    "    axs[2].plot(unique_ratio, overall_hit_rate, c=array_color[dp_base_index])\n",
    "\n",
    "    if dp_base_index < 3:\n",
    "        axs[0].axhline(\n",
    "            overall_accuracy[-1], c=array_color[dp_base_index], ls=\"--\", lw=1\n",
    "        )\n",
    "        axs[1].axhline(overall_cr_rate[-1], c=array_color[dp_base_index], ls=\"--\", lw=1)\n",
    "        axs[2].axhline(\n",
    "            overall_hit_rate[-1], c=array_color[dp_base_index], ls=\"--\", lw=1\n",
    "        )\n",
    "\n",
    "axs[0].axvline(0.5, c=\"k\", ls=\"--\", lw=1)\n",
    "axs[1].axvline(0.5, c=\"k\", ls=\"--\", lw=1)\n",
    "axs[2].axvline(0.5, c=\"k\", ls=\"--\", lw=1)\n",
    "\n",
    "axs[0].legend(loc=\"best\", fontsize=12)\n",
    "\n",
    "axs[0].set(ylabel=\"Accuracy\")\n",
    "axs[1].set(ylabel=\"CR Rate\")\n",
    "axs[2].set(xlabel=\"Duplet d' Ratio\", ylabel=\"Hit Rate\")"
   ]
  },
  {
   "cell_type": "code",
   "execution_count": null,
   "metadata": {},
   "outputs": [],
   "source": []
  }
 ],
 "metadata": {
  "kernelspec": {
   "display_name": "bayesee",
   "language": "python",
   "name": "python3"
  },
  "language_info": {
   "codemirror_mode": {
    "name": "ipython",
    "version": 3
   },
   "file_extension": ".py",
   "mimetype": "text/x-python",
   "name": "python",
   "nbconvert_exporter": "python",
   "pygments_lexer": "ipython3",
   "version": "3.11.3"
  },
  "orig_nbformat": 4
 },
 "nbformat": 4,
 "nbformat_minor": 2
}
