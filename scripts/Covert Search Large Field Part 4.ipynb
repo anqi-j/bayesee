{
 "cells": [
  {
   "cell_type": "code",
   "execution_count": null,
   "metadata": {},
   "outputs": [],
   "source": [
    "import numpy as np\n",
    "import pandas as pd\n",
    "from pathlib import Path\n",
    "from scipy.io import loadmat\n",
    "from sklearn.metrics import confusion_matrix"
   ]
  },
  {
   "cell_type": "code",
   "execution_count": null,
   "metadata": {},
   "outputs": [],
   "source": [
    "import matplotlib.pyplot as plt\n",
    "import seaborn as sns\n",
    "from matplotlib.colors import hsv_to_rgb\n",
    "from matplotlib.patches import Circle"
   ]
  },
  {
   "cell_type": "code",
   "execution_count": null,
   "metadata": {},
   "outputs": [],
   "source": [
    "%load_ext autoreload\n",
    "%autoreload 2\n",
    "plt.style.use('bayesee.academic')"
   ]
  },
  {
   "cell_type": "code",
   "execution_count": null,
   "metadata": {},
   "outputs": [],
   "source": [
    "repo_path = Path.cwd().parents[0]\n",
    "print(repo_path)"
   ]
  },
  {
   "cell_type": "code",
   "execution_count": null,
   "metadata": {},
   "outputs": [],
   "source": [
    "subject = \"AZ_t1\"\n",
    "file_name = repo_path / f\"data/covert-search/large-field/p4_data_{subject}.mat\"\n",
    "data = loadmat(file_name)\n",
    "print(data.keys())"
   ]
  },
  {
   "cell_type": "code",
   "execution_count": null,
   "metadata": {},
   "outputs": [],
   "source": [
    "target_amplitude = data[\"targetAmplitude\"]\n",
    "target_location = data[\"tLocation\"]\n",
    "spot_center = data[\"spotCenters\"]\n",
    "human_response = data[\"hResponse\"]\n",
    "n_location = data[\"nLocations\"][0][0]\n",
    "spot_diameter = data[\"spotLength\"][0][0]\n",
    "stimulus_design_size = data[\"totalLength\"][0][0]\n",
    "monitor_width = data[\"monitorPx\"][0][0]\n",
    "monitor_height = data[\"monitorPx\"][0][1]\n",
    "ppd = data[\"ppd\"][0][0]"
   ]
  },
  {
   "cell_type": "code",
   "execution_count": null,
   "metadata": {},
   "outputs": [],
   "source": [
    "shifted_spot_center = spot_center.copy()\n",
    "shifted_spot_center[:, 0] += (monitor_height - stimulus_design_size) // 2\n",
    "shifted_spot_center[:, 1] += (monitor_width - stimulus_design_size) // 2\n",
    "\n",
    "accurate_response = target_location == human_response"
   ]
  },
  {
   "cell_type": "code",
   "execution_count": null,
   "metadata": {},
   "outputs": [],
   "source": [
    "spatial_statistics = pd.DataFrame({\"id\": range(1, n_location)})"
   ]
  },
  {
   "cell_type": "code",
   "execution_count": null,
   "metadata": {},
   "outputs": [],
   "source": [
    "list_spot_region = [np.zeros(monitor_width, monitor_height)] * (n_location - 1)\n",
    "pixel_col, pixel_row = np.meshgrid(np.arange(monitor_width), np.arange(monitor_height))\n",
    "\n",
    "for index_location in range(n_location - 1):\n",
    "    list_spot_region[index_location] = (\n",
    "        pixel_row - shifted_spot_center[index_location, 0]\n",
    "    ) ** 2 + (\n",
    "        pixel_col - shifted_spot_center[index_location, 1]\n",
    "    ) ** 2 <= spot_diameter**2 / 4"
   ]
  },
  {
   "cell_type": "code",
   "execution_count": null,
   "metadata": {},
   "outputs": [],
   "source": [
    "stimulus_region = np.zeros((monitor_height, monitor_width))\n",
    "\n",
    "for index_location in range(n_location - 1):\n",
    "    stimulus_region[list_spot_region[index_location]] = 1"
   ]
  },
  {
   "cell_type": "code",
   "execution_count": null,
   "metadata": {},
   "outputs": [],
   "source": [
    "fig, ax = plt.subplots()\n",
    "ax.imshow(stimulus_region)\n",
    "\n",
    "for index_location in range(n_location - 1):\n",
    "    ax.text(\n",
    "        shifted_spot_center[index_location, 1],\n",
    "        shifted_spot_center[index_location, 0],\n",
    "        f\"{index_location+1}\",\n",
    "        ha=\"center\",\n",
    "        va=\"center\",\n",
    "    )\n",
    "\n",
    "circle = Circle(\n",
    "    (monitor_width // 2, monitor_height // 2),\n",
    "    spot_diameter * 1.5,\n",
    "    edgecolor=\"r\",\n",
    "    facecolor=\"none\",\n",
    "    linewidth=3,\n",
    ")\n",
    "ax.add_patch(circle)"
   ]
  },
  {
   "cell_type": "code",
   "execution_count": null,
   "metadata": {},
   "outputs": [],
   "source": [
    "array_eccentral_distance = np.zeros((n_location - 1,))\n",
    "\n",
    "for index_location in range(n_location - 1):\n",
    "    array_eccentral_distance[index_location] = np.sqrt(\n",
    "        (spot_center[index_location, 0] - stimulus_design_size // 2) ** 2\n",
    "        + (spot_center[index_location, 1] - stimulus_design_size // 2) ** 2\n",
    "    )\n",
    "\n",
    "array_eccentral_distance /= ppd\n",
    "\n",
    "print(array_eccentral_distance)"
   ]
  },
  {
   "cell_type": "code",
   "execution_count": null,
   "metadata": {},
   "outputs": [],
   "source": [
    "pixel_precision_array_eccentral_distance = array_eccentral_distance.copy()\n",
    "\n",
    "for index_d1, distance1 in enumerate(np.unique(array_eccentral_distance)):\n",
    "    for index_d2, distance2 in enumerate(\n",
    "        np.unique(array_eccentral_distance)[index_d1 + 1 :]\n",
    "    ):\n",
    "        if distance1 != distance2 and np.abs(distance2 - distance1) < 0.5:\n",
    "            print(index_d1, distance1, index_d2, distance2)\n",
    "            pixel_precision_array_eccentral_distance[\n",
    "                array_eccentral_distance == distance2\n",
    "            ] = distance1\n",
    "\n",
    "print(pixel_precision_array_eccentral_distance)"
   ]
  },
  {
   "cell_type": "code",
   "execution_count": null,
   "metadata": {},
   "outputs": [],
   "source": [
    "spatial_statistics[\"ecc\"] = pixel_precision_array_eccentral_distance.round(3)"
   ]
  },
  {
   "cell_type": "code",
   "execution_count": null,
   "metadata": {},
   "outputs": [],
   "source": [
    "eccentral_distance_sorted_indexes = np.argsort(\n",
    "    pixel_precision_array_eccentral_distance, kind=\"stable\"\n",
    ")\n",
    "extra_eccentral_distance_sorted_indexes = np.insert(\n",
    "    eccentral_distance_sorted_indexes + 1, 0, 0\n",
    ")\n",
    "print(extra_eccentral_distance_sorted_indexes)"
   ]
  },
  {
   "cell_type": "code",
   "execution_count": null,
   "metadata": {},
   "outputs": [],
   "source": [
    "indexes_near = np.arange(1, n_location)[\n",
    "    pixel_precision_array_eccentral_distance < spot_diameter * 1.5 / ppd\n",
    "]\n",
    "indexes_far = np.arange(1, n_location)[\n",
    "    pixel_precision_array_eccentral_distance > spot_diameter * 1.5 / ppd\n",
    "]\n",
    "print(indexes_near, indexes_far)"
   ]
  },
  {
   "cell_type": "code",
   "execution_count": null,
   "metadata": {},
   "outputs": [],
   "source": [
    "near_region = np.zeros((monitor_height, monitor_width))\n",
    "\n",
    "for index_location in range(n_location - 1):\n",
    "    if index_location + 1 in indexes_near:\n",
    "        near_region[list_spot_region[index_location]] = 1"
   ]
  },
  {
   "cell_type": "code",
   "execution_count": null,
   "metadata": {},
   "outputs": [],
   "source": [
    "fig, ax = plt.subplots()\n",
    "ax.imshow(near_region)\n",
    "\n",
    "for index_location in range(n_location - 1):\n",
    "    if index_location + 1 in indexes_near:\n",
    "        ax.text(\n",
    "            shifted_spot_center[index_location, 1],\n",
    "            shifted_spot_center[index_location, 0],\n",
    "            f\"{index_location+1}\",\n",
    "            ha=\"center\",\n",
    "            va=\"center\",\n",
    "        )"
   ]
  },
  {
   "cell_type": "code",
   "execution_count": null,
   "metadata": {},
   "outputs": [],
   "source": [
    "accuracy_all = accurate_response.mean()\n",
    "accuracy_near = accurate_response[np.isin(target_location, indexes_near)].mean()\n",
    "accuracy_far = accurate_response[np.isin(target_location, indexes_far)].mean()\n",
    "print(accuracy_all, accuracy_near, accuracy_far)"
   ]
  },
  {
   "cell_type": "code",
   "execution_count": null,
   "metadata": {},
   "outputs": [],
   "source": [
    "confusion_mat = confusion_matrix(\n",
    "    human_response.flatten(), target_location.flatten(), labels=range(n_location)\n",
    ")\n",
    "sorted_confusion_mat = confusion_mat[extra_eccentral_distance_sorted_indexes, :][\n",
    "    :, extra_eccentral_distance_sorted_indexes\n",
    "]\n",
    "array_index_location = np.arange(n_location)[extra_eccentral_distance_sorted_indexes]"
   ]
  },
  {
   "cell_type": "code",
   "execution_count": null,
   "metadata": {},
   "outputs": [],
   "source": [
    "correct_rejection = sorted_confusion_mat[0][0]\n",
    "second_largest_confusion_mat = np.max(\n",
    "    np.delete(sorted_confusion_mat, np.where(sorted_confusion_mat == correct_rejection))\n",
    ")\n",
    "plotted_sorted_confusion_mat = sorted_confusion_mat.copy()\n",
    "plotted_sorted_confusion_mat[0][0] = second_largest_confusion_mat\n",
    "print(second_largest_confusion_mat)"
   ]
  },
  {
   "cell_type": "code",
   "execution_count": null,
   "metadata": {},
   "outputs": [],
   "source": [
    "fig, ax = plt.subplots(figsize=(15, 12))\n",
    "im = ax.imshow(plotted_sorted_confusion_mat)\n",
    "\n",
    "for index_target_location in array_index_location:\n",
    "    for index_human_response in array_index_location:\n",
    "        if not (-index_target_location == 0 and index_human_response == 0):\n",
    "            ax.text(\n",
    "                index_human_response,\n",
    "                index_target_location,\n",
    "                f\"{sorted_confusion_mat[index_target_location, index_human_response]:.0f}\",\n",
    "                ha=\"center\",\n",
    "                va=\"center\",\n",
    "            )\n",
    "\n",
    "ax.annotate(\n",
    "    f\"{correct_rejection:.0f}\",\n",
    "    xy=(0, 0),\n",
    "    xytext=(-0.5, -1),\n",
    "    arrowprops=dict(facecolor=\"black\", shrink=0.05),\n",
    ")\n",
    "\n",
    "ax.set(\n",
    "    xticks=np.arange(n_location),\n",
    "    yticks=np.arange(n_location),\n",
    "    xticklabels=array_index_location,\n",
    "    yticklabels=array_index_location,\n",
    "    xlabel=\"Target location sorted by eccentral distance\",\n",
    "    ylabel=\"Human response sorted by eccentral distance\",\n",
    ")\n",
    "\n",
    "inner_ax = fig.add_axes([0.25, 0.3, 0.2, 0.32])\n",
    "inner_ax.imshow(stimulus_region)\n",
    "inner_ax.set(xticks=[], yticks=[])\n",
    "\n",
    "for index_location in range(n_location - 1):\n",
    "    inner_ax.text(\n",
    "        shifted_spot_center[index_location, 1],\n",
    "        shifted_spot_center[index_location, 0],\n",
    "        f\"{index_location+1}\",\n",
    "        ha=\"center\",\n",
    "        va=\"center\",\n",
    "        fontsize=16,\n",
    "    )\n",
    "\n",
    "plt.show()"
   ]
  },
  {
   "cell_type": "code",
   "execution_count": null,
   "metadata": {},
   "outputs": [],
   "source": [
    "local_hit_rate = np.array(\n",
    "    [\n",
    "        confusion_mat[index_location + 1, index_location + 1]\n",
    "        / confusion_mat[:, index_location + 1].sum()\n",
    "        for index_location in range(n_location - 1)\n",
    "    ]\n",
    ")\n",
    "\n",
    "local_miss_rate = np.array(\n",
    "    [\n",
    "        confusion_mat[0, index_location + 1]\n",
    "        / confusion_mat[:, index_location + 1].sum()\n",
    "        for index_location in range(n_location - 1)\n",
    "    ]\n",
    ")\n",
    "\n",
    "local_fa_rate = np.array(\n",
    "    [\n",
    "        confusion_mat[index_location + 1, 0] / confusion_mat[:, 0].sum()\n",
    "        for index_location in range(n_location - 1)\n",
    "    ]\n",
    ")\n",
    "\n",
    "cr = (confusion_mat[0, 0]).sum() / confusion_mat[:, 0].sum()"
   ]
  },
  {
   "cell_type": "code",
   "execution_count": null,
   "metadata": {},
   "outputs": [],
   "source": [
    "spatial_statistics[\"hit_rate\"] = local_hit_rate\n",
    "spatial_statistics[\"miss_rate\"] = local_miss_rate\n",
    "spatial_statistics[\"fa_rate\"] = local_fa_rate"
   ]
  },
  {
   "cell_type": "code",
   "execution_count": null,
   "metadata": {},
   "outputs": [],
   "source": [
    "for statistic in [local_hit_rate, local_miss_rate, local_fa_rate]:\n",
    "    statistic_region = np.empty((monitor_height, monitor_width))\n",
    "    for index_location in range(n_location - 1):\n",
    "        if index_location + 1 in indexes_near:\n",
    "            statistic_region[list_spot_region[index_location]] = statistic[\n",
    "                index_location\n",
    "            ]\n",
    "\n",
    "    fig, ax = plt.subplots()\n",
    "    ax.imshow(statistic_region)\n",
    "\n",
    "    for index_location in range(n_location - 1):\n",
    "        ax.text(\n",
    "            shifted_spot_center[index_location, 1],\n",
    "            shifted_spot_center[index_location, 0],\n",
    "            f\"{statistic[index_location]:.3f}\",\n",
    "            ha=\"center\",\n",
    "            va=\"center\",\n",
    "        )\n",
    "\n",
    "    plt.show()\n",
    "\n",
    "print(f\"Correct Rejection:{cr}\")"
   ]
  },
  {
   "cell_type": "code",
   "execution_count": null,
   "metadata": {},
   "outputs": [],
   "source": [
    "local_present_count = np.array(\n",
    "    [\n",
    "        confusion_mat[:, index_location + 1].sum()\n",
    "        for index_location in range(n_location - 1)\n",
    "    ]\n",
    ")\n",
    "\n",
    "local_hit_count = np.array(\n",
    "    [\n",
    "        confusion_mat[index_location + 1, index_location + 1]\n",
    "        for index_location in range(n_location - 1)\n",
    "    ]\n",
    ")\n",
    "\n",
    "local_miss_count = np.array(\n",
    "    [confusion_mat[0, index_location + 1] for index_location in range(n_location - 1)]\n",
    ")\n",
    "\n",
    "local_fa_count = np.array(\n",
    "    [confusion_mat[index_location + 1, 0] for index_location in range(n_location - 1)]\n",
    ")\n",
    "\n",
    "local_fh_from_count = np.array(\n",
    "    [\n",
    "        confusion_mat[1:, index_location + 1].sum()\n",
    "        - confusion_mat[index_location + 1, index_location + 1]\n",
    "        for index_location in range(n_location - 1)\n",
    "    ]\n",
    ")\n",
    "\n",
    "local_fh_to_count = np.array(\n",
    "    [\n",
    "        confusion_mat[index_location + 1, 1:].sum()\n",
    "        - confusion_mat[index_location + 1, index_location + 1]\n",
    "        for index_location in range(n_location - 1)\n",
    "    ]\n",
    ")"
   ]
  },
  {
   "cell_type": "code",
   "execution_count": null,
   "metadata": {},
   "outputs": [],
   "source": [
    "spatial_statistics[\"present_count\"] = local_present_count\n",
    "spatial_statistics[\"hit_count\"] = local_hit_count\n",
    "spatial_statistics[\"miss_count\"] = local_miss_count\n",
    "spatial_statistics[\"fa_count\"] = local_fa_count\n",
    "spatial_statistics[\"fh_from_count\"] = local_fh_from_count\n",
    "spatial_statistics[\"fh_to_count\"] = local_fh_to_count"
   ]
  },
  {
   "cell_type": "code",
   "execution_count": null,
   "metadata": {},
   "outputs": [],
   "source": [
    "for count in [\n",
    "    local_present_count,\n",
    "    local_hit_count,\n",
    "    local_miss_count,\n",
    "    local_fa_count,\n",
    "    local_fh_from_count,\n",
    "    local_fh_to_count,\n",
    "]:\n",
    "    count_region = np.empty((monitor_height, monitor_width))\n",
    "    for index_location in range(n_location - 1):\n",
    "        count_region[list_spot_region[index_location]] = count[index_location]\n",
    "\n",
    "    fig, ax = plt.subplots()\n",
    "    ax.imshow(count_region)\n",
    "\n",
    "    for index_location in range(n_location - 1):\n",
    "        ax.text(\n",
    "            shifted_spot_center[index_location, 1],\n",
    "            shifted_spot_center[index_location, 0],\n",
    "            f\"{count[index_location]:.0f}\",\n",
    "            ha=\"center\",\n",
    "            va=\"center\",\n",
    "        )\n",
    "\n",
    "    plt.show()"
   ]
  },
  {
   "cell_type": "code",
   "execution_count": null,
   "metadata": {},
   "outputs": [],
   "source": [
    "array_orientation = np.ones((n_location - 1,)) * -1\n",
    "\n",
    "for index_location in range(1, n_location - 1):\n",
    "    dy = spot_center[index_location, 0] - stimulus_design_size // 2\n",
    "    dx = stimulus_design_size // 2 - spot_center[index_location, 1]\n",
    "    array_orientation[index_location] = (1 - np.arctan2(dy, dx) / np.pi) / 2\n",
    "\n",
    "print(array_orientation)"
   ]
  },
  {
   "cell_type": "code",
   "execution_count": null,
   "metadata": {},
   "outputs": [],
   "source": [
    "spatial_statistics[\"orientation\"] = array_orientation.round(3)"
   ]
  },
  {
   "cell_type": "code",
   "execution_count": null,
   "metadata": {},
   "outputs": [],
   "source": [
    "orientation_hsv_color_map = np.zeros((n_location - 1, 3))\n",
    "orientation_hsv_color_map[:, 0] = array_orientation\n",
    "\n",
    "for index_location in range(n_location - 1):\n",
    "    orientation_hsv_color_map[index_location, 1] = 1\n",
    "\n",
    "    if index_location == 0:\n",
    "        orientation_hsv_color_map[index_location, 2] = 0\n",
    "    else:\n",
    "        orientation_hsv_color_map[index_location, 2] = 0.75\n",
    "\n",
    "rgb_orientation_color_map = hsv_to_rgb(orientation_hsv_color_map)"
   ]
  },
  {
   "cell_type": "code",
   "execution_count": null,
   "metadata": {},
   "outputs": [],
   "source": [
    "spatial_statistics = spatial_statistics.dropna()"
   ]
  },
  {
   "cell_type": "code",
   "execution_count": null,
   "metadata": {},
   "outputs": [],
   "source": [
    "near_pixel_precision_array_eccentral_distance = (\n",
    "    pixel_precision_array_eccentral_distance[indexes_near - 1]\n",
    ")\n",
    "near_rgb_orientation_color_map = rgb_orientation_color_map[indexes_near - 1, :]"
   ]
  },
  {
   "cell_type": "code",
   "execution_count": null,
   "metadata": {},
   "outputs": [],
   "source": [
    "for statistic in [local_hit_rate, local_miss_rate, local_fa_rate]:\n",
    "    fig, ax = plt.subplots()\n",
    "    near_statistic = statistic[indexes_near - 1]\n",
    "    ax.scatter(\n",
    "        near_pixel_precision_array_eccentral_distance,\n",
    "        near_statistic,\n",
    "        s=250,\n",
    "        c=near_rgb_orientation_color_map,\n",
    "    )\n",
    "\n",
    "    ax.set(xlabel=\"Eccentral distance (deg)\", ylabel=\"Proportion\")\n",
    "\n",
    "    inner_ax = fig.add_axes([0.2, 0.2, 0.288, 0.461])\n",
    "    inner_ax.imshow(near_region)\n",
    "    inner_ax.set(xticks=[], yticks=[])\n",
    "\n",
    "    for index_location in range(n_location - 1):\n",
    "        if index_location + 1 in indexes_near:\n",
    "            circle = Circle(\n",
    "                (\n",
    "                    shifted_spot_center[index_location, 1],\n",
    "                    shifted_spot_center[index_location, 0],\n",
    "                ),\n",
    "                spot_diameter / 2,\n",
    "                color=rgb_orientation_color_map[index_location],\n",
    "                linewidth=1,\n",
    "            )\n",
    "            inner_ax.add_patch(circle)\n",
    "\n",
    "    plt.show()"
   ]
  },
  {
   "cell_type": "code",
   "execution_count": null,
   "metadata": {},
   "outputs": [],
   "source": [
    "orientation_color_palette = dict(\n",
    "    zip(spatial_statistics[\"orientation\"], near_rgb_orientation_color_map)\n",
    ")"
   ]
  },
  {
   "cell_type": "code",
   "execution_count": null,
   "metadata": {},
   "outputs": [],
   "source": [
    "for statistic in [\"hit_rate\", \"miss_rate\", \"fa_rate\"]:\n",
    "    fig, ax = plt.subplots()\n",
    "    sns.barplot(\n",
    "        data=spatial_statistics,\n",
    "        x=\"ecc\",\n",
    "        y=statistic,\n",
    "        hue=\"orientation\",\n",
    "        palette=orientation_color_palette,\n",
    "        width=0.4,\n",
    "        ax=ax,\n",
    "    )\n",
    "    ax.legend_.remove()\n",
    "    ax.set(xlabel=\"Eccentral distance (deg)\")\n",
    "\n",
    "    for i, patch in enumerate(ax.patches):\n",
    "        if i == 0:\n",
    "            patch.set_x(patch.get_x() + 0.175)\n",
    "\n",
    "    inner_ax = fig.add_axes([0.125, 0.7, 0.144, 0.2405])\n",
    "    inner_ax.imshow(near_region)\n",
    "    inner_ax.set(xticks=[], yticks=[])\n",
    "\n",
    "    for index_location in range(n_location - 1):\n",
    "        if index_location + 1 in indexes_near:\n",
    "            circle = Circle(\n",
    "                (\n",
    "                    shifted_spot_center[index_location, 1],\n",
    "                    shifted_spot_center[index_location, 0],\n",
    "                ),\n",
    "                spot_diameter / 2,\n",
    "                color=rgb_orientation_color_map[index_location],\n",
    "                linewidth=1,\n",
    "            )\n",
    "            inner_ax.add_patch(circle)\n",
    "\n",
    "    plt.show()"
   ]
  },
  {
   "cell_type": "code",
   "execution_count": null,
   "metadata": {},
   "outputs": [],
   "source": [
    "spatial_statistics.to_csv(\n",
    "    repo_path\n",
    "    / f\"data/covert-search/large-field/derived/p4_spatial_statistics_{subject}.csv\",\n",
    "    index=False,\n",
    ")"
   ]
  }
 ],
 "metadata": {
  "kernelspec": {
   "display_name": "bayesee",
   "language": "python",
   "name": "python3"
  },
  "language_info": {
   "codemirror_mode": {
    "name": "ipython",
    "version": 3
   },
   "file_extension": ".py",
   "mimetype": "text/x-python",
   "name": "python",
   "nbconvert_exporter": "python",
   "pygments_lexer": "ipython3",
   "version": "3.11.3"
  },
  "orig_nbformat": 4
 },
 "nbformat": 4,
 "nbformat_minor": 2
}
