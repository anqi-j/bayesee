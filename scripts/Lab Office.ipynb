{
 "cells": [
  {
   "cell_type": "code",
   "execution_count": 1,
   "metadata": {},
   "outputs": [],
   "source": [
    "import bayesee\n",
    "%load_ext autoreload\n",
    "%autoreload 2"
   ]
  },
  {
   "cell_type": "code",
   "execution_count": 2,
   "metadata": {},
   "outputs": [],
   "source": [
    "import numpy as np\n",
    "import pandas as pd\n",
    "import matplotlib.pyplot as plt\n",
    "import skimage\n",
    "from pathlib import Path\n",
    "from scipy.io import loadmat\n",
    "import pickle"
   ]
  },
  {
   "cell_type": "code",
   "execution_count": 3,
   "metadata": {},
   "outputs": [],
   "source": [
    "from bayesee.perception import *\n",
    "from bayesee.validation import *\n",
    "from bayesee.visualization import *\n",
    "from bayesee.generation import *\n",
    "from bayesee.evaluation import *\n",
    "from bayesee.iteration import *\n",
    "from bayesee.partition import *"
   ]
  },
  {
   "cell_type": "code",
   "execution_count": 4,
   "metadata": {},
   "outputs": [
    {
     "name": "stdout",
     "output_type": "stream",
     "text": [
      "The autoreload extension is already loaded. To reload it, use:\n",
      "  %reload_ext autoreload\n"
     ]
    }
   ],
   "source": [
    "%load_ext autoreload\n",
    "%autoreload 2\n",
    "plt.style.use('bayesee.academic')"
   ]
  },
  {
   "cell_type": "code",
   "execution_count": 5,
   "metadata": {},
   "outputs": [],
   "source": [
    "stimulus = {\"df\": pd.DataFrame({\"amplitude\": np.ones((4,)), \"presence\": np.ones((4,))})}\n",
    "response = {\"df\": pd.DataFrame({\"response_presence\": np.zeros((4,))})}\n",
    "stimulus[\"df\"][\"presence\"][0:2] = 0\n",
    "\n",
    "array_Bb, array_Aa = compute_confusion_matrix_w_discrete_response(stimulus, response)\n",
    "\n",
    "assert np.allclose(array_Aa, 1)\n",
    "assert np.allclose(array_Bb, 0)"
   ]
  }
 ],
 "metadata": {
  "kernelspec": {
   "display_name": "bayesee",
   "language": "python",
   "name": "python3"
  },
  "language_info": {
   "codemirror_mode": {
    "name": "ipython",
    "version": 3
   },
   "file_extension": ".py",
   "mimetype": "text/x-python",
   "name": "python",
   "nbconvert_exporter": "python",
   "pygments_lexer": "ipython3",
   "version": "3.11.3"
  },
  "orig_nbformat": 4
 },
 "nbformat": 4,
 "nbformat_minor": 2
}
