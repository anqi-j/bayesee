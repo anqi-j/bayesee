{
 "cells": [
  {
   "cell_type": "code",
   "execution_count": null,
   "metadata": {},
   "outputs": [],
   "source": [
    "import numpy as np\n",
    "import pandas as pd\n",
    "import matplotlib.pyplot as plt\n",
    "import seaborn as sns\n",
    "from pathlib import Path\n",
    "from scipy.io import loadmat\n",
    "from scipy.optimize import minimize\n",
    "import pickle"
   ]
  },
  {
   "cell_type": "code",
   "execution_count": null,
   "metadata": {},
   "outputs": [],
   "source": [
    "from bayesee.evaluation import *"
   ]
  },
  {
   "cell_type": "code",
   "execution_count": null,
   "metadata": {},
   "outputs": [],
   "source": [
    "%load_ext autoreload\n",
    "%autoreload 2\n",
    "plt.style.use('bayesee.academic')"
   ]
  },
  {
   "cell_type": "code",
   "execution_count": null,
   "metadata": {},
   "outputs": [],
   "source": [
    "repo_path = Path.cwd().parents[0]\n",
    "print(repo_path)"
   ]
  },
  {
   "cell_type": "code",
   "execution_count": null,
   "metadata": {},
   "outputs": [],
   "source": [
    "subject = \"AZ_t1\"\n",
    "file_name = repo_path / f\"data/covert-search/large-field/p1_data_{subject}.pickle\"\n",
    "\n",
    "with open(file_name, \"rb\") as f:\n",
    "    stimulus, response = pickle.load(f)\n",
    "\n",
    "metadata = stimulus[\"metadata\"]\n",
    "print(metadata.keys())"
   ]
  },
  {
   "cell_type": "code",
   "execution_count": null,
   "metadata": {},
   "outputs": [],
   "source": [
    "array_dprime, array_criterion = compute_dprime_criterion_w_discrete_response(\n",
    "    stimulus, response\n",
    ")\n",
    "array_Bb, array_Aa = compute_confusion_matrix_w_discrete_response(stimulus, response)"
   ]
  },
  {
   "cell_type": "code",
   "execution_count": null,
   "metadata": {},
   "outputs": [],
   "source": [
    "fig, ax = plt.subplots()\n",
    "amplitude_unique, index_unique = np.unique(\n",
    "    stimulus[\"df\"][\"amplitude\"], return_index=True\n",
    ")\n",
    "ax.scatter(amplitude_unique, array_dprime[index_unique], s=250, label=\"d'\")\n",
    "ax.scatter(amplitude_unique, array_criterion[index_unique], s=250, label=\"$\\gamma$\")\n",
    "ax.legend(loc=\"best\")\n",
    "\n",
    "ax.set(xlabel=\"Target amplitude\", ylabel=\"Value\")"
   ]
  },
  {
   "cell_type": "code",
   "execution_count": null,
   "metadata": {},
   "outputs": [],
   "source": [
    "x0 = [1, 1, 0]\n",
    "\n",
    "results = minimize(\n",
    "    negative_loglikelihood_w_parameter,\n",
    "    x0,\n",
    "    args=(stimulus, response, unit_likelihood_abc),\n",
    ")"
   ]
  },
  {
   "cell_type": "code",
   "execution_count": null,
   "metadata": {},
   "outputs": [],
   "source": [
    "a, b, c = results.x\n",
    "fig, ax = plt.subplots()\n",
    "amplitude_unique = np.unique(stimulus[\"df\"][\"amplitude\"])\n",
    "\n",
    "ax.scatter(amplitude_unique, array_Bb[index_unique], s=250, label=\"Hit rate\")\n",
    "ax.scatter(amplitude_unique, array_Aa[index_unique], s=250, label=\"CR rate\")\n",
    "\n",
    "ax.plot(\n",
    "    amplitude_unique,\n",
    "    norm.cdf(0.5 * (amplitude_unique / a) ** b - c),\n",
    "    label=\"Hit Rate Fit\",\n",
    ")\n",
    "\n",
    "ax.plot(\n",
    "    amplitude_unique,\n",
    "    norm.cdf(0.5 * (amplitude_unique / a) ** b + c),\n",
    "    label=\"CR Rate Fit\",\n",
    ")\n",
    "\n",
    "ax.legend(loc=\"best\")"
   ]
  }
 ],
 "metadata": {
  "kernelspec": {
   "display_name": "bayesee",
   "language": "python",
   "name": "python3"
  },
  "language_info": {
   "codemirror_mode": {
    "name": "ipython",
    "version": 3
   },
   "file_extension": ".py",
   "mimetype": "text/x-python",
   "name": "python",
   "nbconvert_exporter": "python",
   "pygments_lexer": "ipython3",
   "version": "3.11.3"
  },
  "orig_nbformat": 4
 },
 "nbformat": 4,
 "nbformat_minor": 2
}
