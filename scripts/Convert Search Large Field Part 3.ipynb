{
 "cells": [
  {
   "cell_type": "code",
   "execution_count": null,
   "metadata": {},
   "outputs": [],
   "source": [
    "import numpy as np\n",
    "import pandas as pd\n",
    "from pathlib import Path\n",
    "from scipy.io import loadmat\n",
    "from sklearn.metrics import confusion_matrix"
   ]
  },
  {
   "cell_type": "code",
   "execution_count": null,
   "metadata": {},
   "outputs": [],
   "source": [
    "import matplotlib.pyplot as plt\n",
    "import seaborn as sns\n",
    "from matplotlib.colors import hsv_to_rgb\n",
    "from matplotlib.patches import Circle"
   ]
  },
  {
   "cell_type": "code",
   "execution_count": null,
   "metadata": {},
   "outputs": [],
   "source": [
    "%load_ext autoreload\n",
    "%autoreload 2\n",
    "plt.style.use('bayesee.academic')"
   ]
  },
  {
   "cell_type": "code",
   "execution_count": null,
   "metadata": {},
   "outputs": [],
   "source": [
    "repo_path = Path.cwd().parents[0]\n",
    "print(repo_path)"
   ]
  },
  {
   "cell_type": "code",
   "execution_count": null,
   "metadata": {},
   "outputs": [],
   "source": [
    "file_name = repo_path / 'data/covert-search/large-field/p3_data_AZ_t1.mat'\n",
    "data = loadmat(file_name)\n",
    "print(data.keys())"
   ]
  },
  {
   "cell_type": "code",
   "execution_count": null,
   "metadata": {},
   "outputs": [],
   "source": [
    "taget_amplitude = data['targetAmplitude']\n",
    "target_location = data['tLocation']\n",
    "spot_center = data['spotCenters']\n",
    "human_response = data['hResponse']\n",
    "n_location = data['nLocations'][0][0]\n",
    "spot_diameter = data['spotLength'][0][0]\n",
    "stimulus_design_size= data['totalLength'][0][0]\n",
    "monitor_width = data['monitorPx'][0][0]\n",
    "monitor_height = data['monitorPx'][0][1]\n",
    "ppd = data['ppd'][0][0]"
   ]
  },
  {
   "cell_type": "code",
   "execution_count": null,
   "metadata": {},
   "outputs": [],
   "source": [
    "shifted_spot_center = spot_center.copy()\n",
    "shifted_spot_center[:,0] += (monitor_height - stimulus_design_size)//2\n",
    "shifted_spot_center[:,1] += (monitor_width - stimulus_design_size)//2\n",
    "\n",
    "accurate_response = target_location == human_response"
   ]
  },
  {
   "cell_type": "code",
   "execution_count": null,
   "metadata": {},
   "outputs": [],
   "source": [
    "list_spot_region = [np.zeros(monitor_width,monitor_height)] * (n_location-1)\n",
    "pixel_col, pixel_row = np.meshgrid(np.arange(monitor_width), np.arange(monitor_height))\n",
    "\n",
    "for index_location in range(n_location-1):\n",
    "     list_spot_region[index_location] = (pixel_row - shifted_spot_center[index_location, 0])**2+(pixel_col - shifted_spot_center[index_location, 1])**2<= spot_diameter**2/4"
   ]
  },
  {
   "cell_type": "code",
   "execution_count": null,
   "metadata": {},
   "outputs": [],
   "source": [
    "stimulus_region = np.zeros((monitor_height, monitor_width))\n",
    "\n",
    "for index_location in range(n_location-1):\n",
    "    stimulus_region[list_spot_region[index_location]] = 1"
   ]
  },
  {
   "cell_type": "code",
   "execution_count": null,
   "metadata": {},
   "outputs": [],
   "source": [
    "fig, ax = plt.subplots()\n",
    "ax.imshow(stimulus_region)\n",
    "\n",
    "for index_location in range(n_location-1):\n",
    "    ax.text(shifted_spot_center[index_location, 1], shifted_spot_center[index_location, 0], f'{index_location+1}', ha='center', va='center')\n",
    "\n",
    "circle = Circle((monitor_width//2, monitor_height//2), spot_diameter*1.5, edgecolor='r', facecolor='none', linewidth=3)\n",
    "ax.add_patch(circle)"
   ]
  },
  {
   "cell_type": "code",
   "execution_count": null,
   "metadata": {},
   "outputs": [],
   "source": [
    "array_eccentral_distance = np.zeros((n_location-1,))\n",
    "\n",
    "for index_location in range(n_location-1):\n",
    "    array_eccentral_distance[index_location] = np.sqrt((spot_center[index_location, 0] - stimulus_design_size//2)**2+(spot_center[index_location, 1] - stimulus_design_size//2)**2)"
   ]
  },
  {
   "cell_type": "code",
   "execution_count": null,
   "metadata": {},
   "outputs": [],
   "source": [
    "eccentral_distance_sorted_indexes = np.argsort(array_eccentral_distance)\n",
    "extra_eccentral_distance_sorted_indexes = np.insert(eccentral_distance_sorted_indexes+1,0,0)\n",
    "print(extra_eccentral_distance_sorted_indexes)"
   ]
  },
  {
   "cell_type": "code",
   "execution_count": null,
   "metadata": {},
   "outputs": [],
   "source": [
    "accurate_response = target_location == human_response\n",
    "confusion_mat = confusion_matrix(human_response.flatten(), target_location.flatten(), labels=range(n_location))[extra_eccentral_distance_sorted_indexes, :][:, extra_eccentral_distance_sorted_indexes]\n",
    "array_index_location = np.arange(n_location)[extra_eccentral_distance_sorted_indexes]"
   ]
  },
  {
   "cell_type": "code",
   "execution_count": null,
   "metadata": {},
   "outputs": [],
   "source": [
    "correct_rejection = confusion_mat[0][0]\n",
    "second_largest_confusion_mat = np.max(np.delete(confusion_mat, np.where(confusion_mat == correct_rejection)))\n",
    "plotted_confusion_mat = confusion_mat.copy()\n",
    "plotted_confusion_mat[0][0] = second_largest_confusion_mat\n",
    "print(second_largest_confusion_mat)"
   ]
  },
  {
   "cell_type": "code",
   "execution_count": null,
   "metadata": {},
   "outputs": [],
   "source": [
    "fig, ax = plt.subplots(figsize=(15,12))\n",
    "im = ax.imshow(plotted_confusion_mat)\n",
    "\n",
    "for index_target_location in array_index_location:\n",
    "    for index_human_response in array_index_location:\n",
    "        if not (-index_target_location == 0 and index_human_response == 0):\n",
    "            ax.text(index_human_response, index_target_location, f'{confusion_mat[index_target_location, index_human_response]:.0f}', ha='center', va='center')\n",
    "\n",
    "ax.annotate(f'{correct_rejection:.0f}', xy=(0, 0), xytext=(-0.5,-1), arrowprops=dict(facecolor='black', shrink=0.05))\n",
    "\n",
    "ax.set(xticks=np.arange(n_location), yticks=np.arange(n_location), xticklabels=array_index_location, yticklabels=array_index_location, xlabel='Target location sorted by eccentral distance', ylabel='Human response sorted by eccentral distance')\n",
    "\n",
    "inner_ax = fig.add_axes([0.25, 0.05, 0.288, 0.461])\n",
    "inner_ax.imshow(stimulus_region)\n",
    "inner_ax.set(xticks=[],yticks=[])\n",
    "\n",
    "for index_location in range(n_location-1):\n",
    "    inner_ax.text(shifted_spot_center[index_location, 1], shifted_spot_center[index_location, 0], f'{index_location+1}', ha='center', va='center', fontsize=16)\n",
    "\n",
    "plt.show()"
   ]
  },
  {
   "cell_type": "code",
   "execution_count": null,
   "metadata": {},
   "outputs": [],
   "source": [
    "indixes_near = np.arange(1,n_location)[array_eccentral_distance < spot_diameter*1.5]\n",
    "indixes_far = np.arange(1,n_location)[array_eccentral_distance > spot_diameter*1.5]\n",
    "print(indixes_near, indixes_far)"
   ]
  },
  {
   "cell_type": "code",
   "execution_count": null,
   "metadata": {},
   "outputs": [],
   "source": [
    "accuracy_all = accurate_response.mean()\n",
    "accuracy_near = accurate_response[np.isin(target_location, indixes_near)].mean()\n",
    "accuracy_far = accurate_response[np.isin(target_location, indixes_far)].mean()\n",
    "print(accuracy_all, accuracy_near, accuracy_far)"
   ]
  },
  {
   "cell_type": "code",
   "execution_count": null,
   "metadata": {},
   "outputs": [],
   "source": [
    "local_hit_region = np.empty((monitor_height, monitor_width))\n",
    "\n",
    "local_hit = np.array([np.logical_and(target_location == index_location+1, human_response == index_location+1).sum() / (target_location == index_location+1).sum()  for index_location in range(n_location-1)])\n",
    "\n",
    "for index_location in range(n_location-1):\n",
    "    local_hit_region[list_spot_region[index_location]] = local_hit[index_location]"
   ]
  },
  {
   "cell_type": "code",
   "execution_count": null,
   "metadata": {},
   "outputs": [],
   "source": [
    "fig, ax = plt.subplots()\n",
    "ax.imshow(local_hit_region)\n",
    "\n",
    "for index_location in range(n_location-1):\n",
    "    ax.text(shifted_spot_center[index_location, 1], shifted_spot_center[index_location, 0], f'{local_hit[index_location]:.2f}', ha='center', va='center')"
   ]
  },
  {
   "cell_type": "code",
   "execution_count": null,
   "metadata": {},
   "outputs": [],
   "source": [
    "local_miss_region = np.empty((monitor_height, monitor_width))\n",
    "\n",
    "local_miss = np.array([np.logical_and(target_location == index_location+1, human_response == 0).sum() / (target_location == index_location+1).sum()  for index_location in range(n_location-1)])\n",
    "\n",
    "for index_location in range(n_location-1):\n",
    "    local_miss_region[list_spot_region[index_location]] = local_miss[index_location]"
   ]
  },
  {
   "cell_type": "code",
   "execution_count": null,
   "metadata": {},
   "outputs": [],
   "source": [
    "fig, ax = plt.subplots()\n",
    "ax.imshow(local_miss_region)\n",
    "\n",
    "for index_location in range(n_location-1):\n",
    "    ax.text(shifted_spot_center[index_location, 1], shifted_spot_center[index_location, 0], f'{local_miss[index_location]:.2f}', ha='center', va='center')"
   ]
  },
  {
   "cell_type": "code",
   "execution_count": null,
   "metadata": {},
   "outputs": [],
   "source": [
    "local_fa_region = np.empty((monitor_height, monitor_width))\n",
    "\n",
    "local_fa = np.array([np.logical_and(target_location == 0, human_response == index_location+1).sum() / (target_location == 0).sum()  for index_location in range(n_location-1)])\n",
    "\n",
    "for index_location in range(n_location-1):\n",
    "    local_fa_region[list_spot_region[index_location]] = local_fa[index_location]"
   ]
  },
  {
   "cell_type": "code",
   "execution_count": null,
   "metadata": {},
   "outputs": [],
   "source": [
    "fig, ax = plt.subplots()\n",
    "ax.imshow(local_fa_region)\n",
    "\n",
    "for index_location in range(n_location-1):\n",
    "    ax.text(shifted_spot_center[index_location, 1], shifted_spot_center[index_location, 0], f'{local_fa[index_location]:.3f}', ha='center', va='center')"
   ]
  },
  {
   "cell_type": "code",
   "execution_count": null,
   "metadata": {},
   "outputs": [],
   "source": [
    "cr = np.logical_and(target_location == 0, human_response == 0).sum() / (target_location == 0).sum()\n",
    "\n",
    "print(cr)"
   ]
  },
  {
   "cell_type": "code",
   "execution_count": null,
   "metadata": {},
   "outputs": [],
   "source": [
    "array_eccentral_distance = np.zeros((n_location-1,))\n",
    "\n",
    "for index_location in range(n_location-1):\n",
    "    array_eccentral_distance[index_location] = np.sqrt((spot_center[index_location, 0] - stimulus_design_size//2)**2+(spot_center[index_location, 1] - stimulus_design_size//2)**2)\n",
    "\n",
    "array_eccentral_distance /= ppd"
   ]
  },
  {
   "cell_type": "code",
   "execution_count": null,
   "metadata": {},
   "outputs": [],
   "source": [
    "orientation_hsv_color_map = np.zeros((n_location-1,3))\n",
    "\n",
    "for index_location in range(n_location-1):\n",
    "    dy = spot_center[index_location, 0] - stimulus_design_size//2\n",
    "    dx = stimulus_design_size//2 - spot_center[index_location, 1]\n",
    "    orientation_hsv_color_map[index_location,0] = (1 - np.arctan2(dy,dx) / np.pi) / 2\n",
    "\n",
    "    orientation_hsv_color_map[index_location,1] = 1\n",
    "\n",
    "    if dx == 0 and dy == 0:\n",
    "        orientation_hsv_color_map[index_location,2] = 0\n",
    "    else:\n",
    "        orientation_hsv_color_map[index_location,2] = 0.75\n",
    "\n",
    "rgb_orientation_color_map = hsv_to_rgb(orientation_hsv_color_map)"
   ]
  },
  {
   "cell_type": "code",
   "execution_count": null,
   "metadata": {},
   "outputs": [],
   "source": [
    "fig, ax = plt.subplots()\n",
    "ax.scatter(array_eccentral_distance, local_hit, s=250, c=rgb_orientation_color_map)\n",
    "\n",
    "ax.set(xlabel='Eccentral distance (deg)', ylabel='Hit')\n",
    "\n",
    "inner_ax = fig.add_axes([0.2, 0.1, 0.288, 0.461])\n",
    "inner_ax.imshow(stimulus_region)\n",
    "inner_ax.set(xticks=[], yticks=[])\n",
    "\n",
    "for index_location in range(n_location-1):\n",
    "    circle = Circle((shifted_spot_center[index_location, 1], shifted_spot_center[index_location, 0]), spot_diameter/2, color=rgb_orientation_color_map[index_location], linewidth=1)\n",
    "    inner_ax.add_patch(circle)\n",
    "    \n",
    "    inner_ax.text(shifted_spot_center[index_location, 1], shifted_spot_center[index_location, 0], f'{index_location+1}', ha='center', va='center', c='w', fontsize=16)\n",
    "\n",
    "ax.axvline(x=spot_diameter*1.5/ppd, color='r', linewidth=3)\n",
    "plt.show()"
   ]
  },
  {
   "cell_type": "code",
   "execution_count": null,
   "metadata": {},
   "outputs": [],
   "source": [
    "fig, ax = plt.subplots()\n",
    "ax.scatter(array_eccentral_distance, local_miss, s=250, c=rgb_orientation_color_map)\n",
    "\n",
    "ax.set(xlabel='Eccentral distance (deg)', ylabel='Miss')\n",
    "\n",
    "inner_ax = fig.add_axes([0.2, 0.5, 0.288, 0.461])\n",
    "inner_ax.imshow(stimulus_region)\n",
    "inner_ax.set(xticks=[], yticks=[])\n",
    "\n",
    "for index_location in range(n_location-1):\n",
    "    circle = Circle((shifted_spot_center[index_location, 1], shifted_spot_center[index_location, 0]), spot_diameter/2, color=rgb_orientation_color_map[index_location], linewidth=1)\n",
    "    inner_ax.add_patch(circle)\n",
    "    \n",
    "    inner_ax.text(shifted_spot_center[index_location, 1], shifted_spot_center[index_location, 0], f'{index_location+1}', ha='center', va='center', c='w', fontsize=16)\n",
    "\n",
    "ax.axvline(x=spot_diameter*1.5/ppd, color='r', linewidth=3)\n",
    "plt.show()"
   ]
  },
  {
   "cell_type": "code",
   "execution_count": null,
   "metadata": {},
   "outputs": [],
   "source": [
    "fig, ax = plt.subplots()\n",
    "ax.scatter(array_eccentral_distance, local_fa, s=250, c=rgb_orientation_color_map)\n",
    "\n",
    "ax.set(xlabel='Eccentral distance (deg)', ylabel='False alarm')\n",
    "\n",
    "inner_ax = fig.add_axes([0.2, 0.1, 0.288, 0.461])\n",
    "inner_ax.imshow(stimulus_region)\n",
    "inner_ax.set(xticks=[], yticks=[])\n",
    "\n",
    "for index_location in range(n_location-1):\n",
    "    circle = Circle((shifted_spot_center[index_location, 1], shifted_spot_center[index_location, 0]), spot_diameter/2, color=rgb_orientation_color_map[index_location], linewidth=1)\n",
    "    inner_ax.add_patch(circle)\n",
    "    \n",
    "    inner_ax.text(shifted_spot_center[index_location, 1], shifted_spot_center[index_location, 0], f'{index_location+1}', ha='center', va='center', c='w', fontsize=16)\n",
    "\n",
    "ax.axvline(x=spot_diameter*1.5/ppd, color='r', linewidth=3)\n",
    "plt.show()"
   ]
  },
  {
   "cell_type": "code",
   "execution_count": null,
   "metadata": {},
   "outputs": [],
   "source": [
    "local_fa"
   ]
  }
 ],
 "metadata": {
  "kernelspec": {
   "display_name": "bayesee",
   "language": "python",
   "name": "python3"
  },
  "language_info": {
   "codemirror_mode": {
    "name": "ipython",
    "version": 3
   },
   "file_extension": ".py",
   "mimetype": "text/x-python",
   "name": "python",
   "nbconvert_exporter": "python",
   "pygments_lexer": "ipython3",
   "version": "3.11.3"
  },
  "orig_nbformat": 4
 },
 "nbformat": 4,
 "nbformat_minor": 2
}
