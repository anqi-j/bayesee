{
 "cells": [
  {
   "cell_type": "code",
   "execution_count": null,
   "metadata": {},
   "outputs": [],
   "source": [
    "import numpy as np\n",
    "import pandas as pd\n",
    "from pathlib import Path\n",
    "from scipy.io import loadmat"
   ]
  },
  {
   "cell_type": "code",
   "execution_count": null,
   "metadata": {},
   "outputs": [],
   "source": [
    "import matplotlib.pyplot as plt\n",
    "import seaborn as sns"
   ]
  },
  {
   "cell_type": "code",
   "execution_count": null,
   "metadata": {},
   "outputs": [],
   "source": [
    "%load_ext autoreload\n",
    "%autoreload 2\n",
    "plt.style.use('bayesee.academic')"
   ]
  },
  {
   "cell_type": "code",
   "execution_count": null,
   "metadata": {},
   "outputs": [],
   "source": [
    "repo_path = Path.cwd().parents[0]\n",
    "print(repo_path)"
   ]
  },
  {
   "cell_type": "code",
   "execution_count": null,
   "metadata": {},
   "outputs": [],
   "source": [
    "file_name = repo_path / 'data/covert-search/large-field/p2_data_AZ_t1.mat'\n",
    "data = loadmat(file_name)\n",
    "print(data.keys())"
   ]
  },
  {
   "cell_type": "code",
   "execution_count": null,
   "metadata": {},
   "outputs": [],
   "source": [
    "taget_amplitude = data['targetAmplitude']\n",
    "target_location = data['tLocation']\n",
    "spot_center = data['spotCenters']\n",
    "human_response = data['hResponse']\n",
    "n_location = data['nLocations'][0][0]\n",
    "spot_diameter = data['spotLength'][0][0]\n",
    "stimulus_design_size= data['totalLength'][0][0]\n",
    "monitor_width = data['monitorPx'][0][0]\n",
    "monitor_height = data['monitorPx'][0][1]"
   ]
  },
  {
   "cell_type": "code",
   "execution_count": null,
   "metadata": {},
   "outputs": [],
   "source": [
    "shifted_spot_center = spot_center.copy()\n",
    "shifted_spot_center[:,0] += (monitor_height - stimulus_design_size)//2\n",
    "shifted_spot_center[:,1] += (monitor_width - stimulus_design_size)//2\n",
    "\n",
    "accurate_response = target_location == human_response"
   ]
  },
  {
   "cell_type": "code",
   "execution_count": null,
   "metadata": {},
   "outputs": [],
   "source": [
    "stimulus_region = np.zeros((monitor_height, monitor_width))\n",
    "pixel_col, pixel_row = np.meshgrid(np.arange(monitor_width), np.arange(monitor_height))\n",
    "\n",
    "for index_location in range(n_location-1):\n",
    "    spot_region = (pixel_row - shifted_spot_center[index_location, 0])**2+(pixel_col - shifted_spot_center[index_location, 1])**2<= spot_diameter**2/4\n",
    "    stimulus_region[spot_region] = 1"
   ]
  },
  {
   "cell_type": "code",
   "execution_count": null,
   "metadata": {},
   "outputs": [],
   "source": [
    "fig, ax = plt.subplots()\n",
    "ax.imshow(stimulus_region)\n",
    "\n",
    "for index_location in range(n_location-1):\n",
    "    ax.text(shifted_spot_center[index_location, 1], shifted_spot_center[index_location, 0], f'{index_location+1}', ha='center', va='center')"
   ]
  },
  {
   "cell_type": "code",
   "execution_count": null,
   "metadata": {},
   "outputs": [],
   "source": [
    "local_accuracy_region = np.empty((monitor_height, monitor_width))\n",
    "pixel_col, pixel_row = np.meshgrid(np.arange(monitor_width), np.arange(monitor_height))\n",
    "\n",
    "local_accuracy = accurate_response.mean(axis=(0,1,2))\n",
    "\n",
    "for index_location in range(n_location-1):\n",
    "    spot_region = (pixel_row - shifted_spot_center[index_location, 0])**2+(pixel_col - shifted_spot_center[index_location, 1])**2<= spot_diameter**2/4\n",
    "    local_accuracy_region[spot_region] = local_accuracy[index_location]"
   ]
  },
  {
   "cell_type": "code",
   "execution_count": null,
   "metadata": {},
   "outputs": [],
   "source": [
    "fig, ax = plt.subplots()\n",
    "ax.imshow(local_accuracy_region)\n",
    "\n",
    "for index_location in range(n_location-1):\n",
    "    ax.text(shifted_spot_center[index_location, 1], shifted_spot_center[index_location, 0], f'{local_accuracy[index_location]:.2f}', ha='center', va='center')"
   ]
  },
  {
   "cell_type": "code",
   "execution_count": null,
   "metadata": {},
   "outputs": [],
   "source": [
    "array_eccentral_distance = np.zeros((n_location-1,))\n",
    "\n",
    "for index_location in range(n_location-1):\n",
    "    array_eccentral_distance[index_location] = np.sqrt((spot_center[index_location, 0] - stimulus_design_size//2)**2+(spot_center[index_location, 1] - stimulus_design_size//2)**2)"
   ]
  },
  {
   "cell_type": "code",
   "execution_count": null,
   "metadata": {},
   "outputs": [],
   "source": [
    "fig, ax = plt.subplots()\n",
    "ax.scatter(array_eccentral_distance, local_accuracy, s=250)\n",
    "\n",
    "ax.set(xlabel='Eccentral distance', ylabel='Accuracy')\n",
    "plt.show()"
   ]
  },
  {
   "cell_type": "code",
   "execution_count": null,
   "metadata": {},
   "outputs": [],
   "source": [
    "local_accuracy_by_session = accurate_response.mean(axis=(0,2))\n",
    "n_session = local_accuracy_by_session.shape[0]\n",
    "array_index_location = np.arange(1,n_location)"
   ]
  },
  {
   "cell_type": "code",
   "execution_count": null,
   "metadata": {},
   "outputs": [],
   "source": [
    "fig, ax = plt.subplots()\n",
    "\n",
    "for index_session in range(n_session):\n",
    "    ax.scatter(array_index_location, local_accuracy_by_session[index_session,:], s=250, label=f'Session {index_session+1}')\n",
    "\n",
    "ax.legend(loc='best')\n",
    "ax.set(xlabel='Spot', ylabel='Accuracy', xticks=array_index_location)\n",
    "plt.show()"
   ]
  },
  {
   "cell_type": "code",
   "execution_count": null,
   "metadata": {},
   "outputs": [],
   "source": [
    "fig, ax = plt.subplots()\n",
    "\n",
    "for index_session in range(n_session):\n",
    "    ax.scatter(array_eccentral_distance, local_accuracy_by_session[index_session,:], s=250, label=f'Session {index_session+1}')\n",
    "\n",
    "ax.legend(loc='best')\n",
    "ax.set(xlabel='Eccentral distance', ylabel='Accuracy')\n",
    "plt.show()"
   ]
  }
 ],
 "metadata": {
  "kernelspec": {
   "display_name": "bayesee",
   "language": "python",
   "name": "python3"
  },
  "language_info": {
   "codemirror_mode": {
    "name": "ipython",
    "version": 3
   },
   "file_extension": ".py",
   "mimetype": "text/x-python",
   "name": "python",
   "nbconvert_exporter": "python",
   "pygments_lexer": "ipython3",
   "version": "3.11.3"
  },
  "orig_nbformat": 4
 },
 "nbformat": 4,
 "nbformat_minor": 2
}
