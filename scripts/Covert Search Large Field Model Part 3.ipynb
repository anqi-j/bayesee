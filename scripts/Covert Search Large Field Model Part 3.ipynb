{
 "cells": [
  {
   "cell_type": "code",
   "execution_count": null,
   "metadata": {},
   "outputs": [],
   "source": [
    "import numpy as np\n",
    "import pandas as pd\n",
    "from pathlib import Path\n",
    "from scipy.io import loadmat\n",
    "from scipy.stats import norm\n",
    "import pickle"
   ]
  },
  {
   "cell_type": "code",
   "execution_count": null,
   "metadata": {},
   "outputs": [],
   "source": [
    "import matplotlib.pyplot as plt\n",
    "import seaborn as sns\n",
    "from matplotlib.colors import hsv_to_rgb\n",
    "from matplotlib.patches import Circle"
   ]
  },
  {
   "cell_type": "code",
   "execution_count": null,
   "metadata": {},
   "outputs": [],
   "source": [
    "from bayesee.evaluation import *"
   ]
  },
  {
   "cell_type": "code",
   "execution_count": null,
   "metadata": {},
   "outputs": [],
   "source": [
    "%load_ext autoreload\n",
    "%autoreload 2\n",
    "plt.style.use('bayesee.academic')"
   ]
  },
  {
   "cell_type": "code",
   "execution_count": null,
   "metadata": {},
   "outputs": [],
   "source": [
    "repo_path = Path.cwd().parents[0]\n",
    "print(repo_path)"
   ]
  },
  {
   "cell_type": "code",
   "execution_count": null,
   "metadata": {},
   "outputs": [],
   "source": [
    "subject = \"AZ\"\n",
    "file_name = repo_path / f\"data/covert-search/large-field/p3_data_{subject}.pickle\"\n",
    "\n",
    "with open(file_name, \"rb\") as f:\n",
    "    stimulus, response = pickle.load(f)\n",
    "\n",
    "metadata = stimulus[\"metadata\"]\n",
    "spot_centers = metadata[\"spot_centers\"]\n",
    "monitor_width, monitor_height = metadata[\"monitor_size\"]\n",
    "stimulus_size = metadata[\"stimulus_size\"]\n",
    "n_location = metadata[\"n_location\"]\n",
    "spot_size = metadata[\"spot_size\"]\n",
    "stimulus_ppd = metadata[\"stimulus_ppd\"]\n",
    "target_amplitude = metadata[\"target_amplitude\"]\n",
    "target = metadata[\"target\"]\n",
    "\n",
    "file_name = (\n",
    "    repo_path\n",
    "    / f\"data/covert-search/large-field/derived/p2_spatial_statistics_{subject}.csv\"\n",
    ")\n",
    "spatial_statistics_human = pd.read_csv(file_name)\n",
    "local_dp = spatial_statistics_human[\"dp\"].values"
   ]
  },
  {
   "cell_type": "code",
   "execution_count": null,
   "metadata": {},
   "outputs": [],
   "source": [
    "prior = np.array((0.5, *((0.5 / (n_location - 1),) * (n_location - 1))))\n",
    "assert np.allclose(prior.sum(), 1.0)\n",
    "log_prior_ratio = np.log(prior / prior[0])\n",
    "log_likelihood_ratio = np.zeros_like(prior)\n",
    "\n",
    "n_trial = 100000\n",
    "\n",
    "target_location = np.zeros((n_trial,), dtype=np.int64)\n",
    "target_location[: n_trial // 2] = np.random.randint(1, n_location, size=n_trial // 2)\n",
    "response_location = np.zeros_like(target_location)\n",
    "\n",
    "assert np.allclose(np.dot(target.flatten(), target.flatten()), 1.0)\n",
    "\n",
    "for index_trial in range(n_trial):\n",
    "    array_standard_normal = np.random.normal(size=(n_location - 1,))\n",
    "    log_likelihood_ratio[1:] = array_standard_normal * local_dp - local_dp**2 / 2\n",
    "    if target_location[index_trial] > 0:\n",
    "        log_likelihood_ratio[target_location[index_trial]] += (\n",
    "            local_dp[target_location[index_trial] - 1] ** 2\n",
    "        )\n",
    "\n",
    "    log_posterior_ratio = log_prior_ratio + log_likelihood_ratio\n",
    "    response_location[index_trial] = np.argmax(log_posterior_ratio)\n",
    "\n",
    "accurate_response = target_location == response_location"
   ]
  },
  {
   "cell_type": "code",
   "execution_count": null,
   "metadata": {},
   "outputs": [],
   "source": [
    "shifted_spot_center = metadata[\"spot_centers\"].copy()\n",
    "shifted_spot_center[:, 0] += (monitor_height - stimulus_size) // 2\n",
    "shifted_spot_center[:, 1] += (monitor_width - stimulus_size) // 2\n",
    "\n",
    "list_spot_region = [np.zeros(monitor_width, monitor_height)] * (n_location - 1)\n",
    "pixel_col, pixel_row = np.meshgrid(np.arange(monitor_width), np.arange(monitor_height))\n",
    "\n",
    "for location_index in range(n_location - 1):\n",
    "    list_spot_region[location_index] = (\n",
    "        pixel_row - shifted_spot_center[location_index, 0]\n",
    "    ) ** 2 + (\n",
    "        pixel_col - shifted_spot_center[location_index, 1]\n",
    "    ) ** 2 <= spot_size**2 / 4"
   ]
  },
  {
   "cell_type": "code",
   "execution_count": null,
   "metadata": {},
   "outputs": [],
   "source": [
    "stimulus_region = np.zeros((monitor_height, monitor_width))\n",
    "\n",
    "for location_index in range(n_location - 1):\n",
    "    stimulus_region[list_spot_region[location_index]] = 1\n",
    "\n",
    "fig, ax = plt.subplots(figsize=(6, 4))\n",
    "ax.imshow(stimulus_region)\n",
    "\n",
    "for location_index in range(n_location - 1):\n",
    "    ax.text(\n",
    "        shifted_spot_center[location_index, 1],\n",
    "        shifted_spot_center[location_index, 0],\n",
    "        f\"{location_index+1}\",\n",
    "        ha=\"center\",\n",
    "        va=\"center\",\n",
    "    )"
   ]
  },
  {
   "cell_type": "code",
   "execution_count": null,
   "metadata": {},
   "outputs": [],
   "source": [
    "print(\n",
    "    f\"Overall accuracy: {accurate_response.mean():.4f}, near hit: {accurate_response[np.isin(target_location, location_near)].mean():.4f}, far hit: {accurate_response[np.isin(target_location, location_far)].mean():.4f}\"\n",
    ")\n",
    "\n",
    "print(f\"Overall cr_rate: {accurate_response[target_location == 0].mean():.4f}\")"
   ]
  },
  {
   "cell_type": "code",
   "execution_count": null,
   "metadata": {},
   "outputs": [],
   "source": [
    "spatial_statistics = pd.DataFrame({\"location\": range(1, n_location)})\n",
    "spatial_statistics[\"ecc\"] = spatial_statistics_human[\"ecc\"]\n",
    "spatial_statistics[\"orientation\"] = spatial_statistics_human[\"orientation\"]"
   ]
  },
  {
   "cell_type": "code",
   "execution_count": null,
   "metadata": {},
   "outputs": [],
   "source": [
    "hit_rate = np.array(\n",
    "    [\n",
    "        sum((target_location == location_index) & (response_location == location_index))\n",
    "        / sum(target_location == location_index)\n",
    "        if sum(target_location == location_index) != 0\n",
    "        else 0\n",
    "        for location_index in range(1, n_location)\n",
    "    ]\n",
    ")\n",
    "\n",
    "spatial_statistics[\"hit_rate\"] = hit_rate\n",
    "\n",
    "miss_rate = np.array(\n",
    "    [\n",
    "        sum((target_location == location_index) & (response_location == 0))\n",
    "        / sum(target_location == location_index)\n",
    "        if sum(target_location == location_index) != 0\n",
    "        else 0\n",
    "        for location_index in range(1, n_location)\n",
    "    ]\n",
    ")\n",
    "\n",
    "spatial_statistics[\"miss_rate\"] = miss_rate\n",
    "\n",
    "n_present = np.array(\n",
    "    [sum(target_location == location_index) for location_index in range(1, n_location)]\n",
    ")\n",
    "\n",
    "spatial_statistics[\"n_present\"] = n_present"
   ]
  },
  {
   "cell_type": "code",
   "execution_count": null,
   "metadata": {},
   "outputs": [],
   "source": [
    "spatial_statistics.to_csv(\n",
    "    repo_path\n",
    "    / f\"data/covert-search/large-field/derived/p3_spatial_statistics_ideal_observer_for_{subject}.csv\",\n",
    "    index=False,\n",
    ")"
   ]
  },
  {
   "cell_type": "code",
   "execution_count": null,
   "metadata": {},
   "outputs": [],
   "source": [
    "orientation_hsv_color_map = np.zeros((n_location - 1, 3))\n",
    "orientation_hsv_color_map[:, 0] = array_orientation\n",
    "\n",
    "for location_index in range(n_location - 1):\n",
    "    orientation_hsv_color_map[location_index, 1] = 1\n",
    "\n",
    "    if location_index == 0:\n",
    "        orientation_hsv_color_map[location_index, 2] = 0\n",
    "    else:\n",
    "        orientation_hsv_color_map[location_index, 2] = 0.75\n",
    "\n",
    "rgb_orientation_color_map = hsv_to_rgb(orientation_hsv_color_map)\n",
    "\n",
    "orientation_color_palette = dict(\n",
    "    zip(spatial_statistics[\"orientation\"], rgb_orientation_color_map)\n",
    ")"
   ]
  },
  {
   "cell_type": "code",
   "execution_count": null,
   "metadata": {},
   "outputs": [],
   "source": [
    "interested_statistics = [\"hit_rate\"] + [\"miss_rate\"]\n",
    "\n",
    "errors_interested_statistics = [None for _ in range(len(interested_statistics))]\n",
    "errors_hit_binomial = 2 * np.sqrt(\n",
    "    hit_rate * (1 - hit_rate) / (n_trial / (n_location - 1))\n",
    ")\n",
    "errors_interested_statistics[0] = np.repeat(\n",
    "    errors_hit_binomial[np.newaxis, :], 2, axis=0\n",
    ")\n",
    "errors_interested_statistics[1] = errors_interested_statistics[0]"
   ]
  },
  {
   "cell_type": "code",
   "execution_count": null,
   "metadata": {},
   "outputs": [],
   "source": [
    "for statistic_index, statistic in enumerate(interested_statistics):\n",
    "    fig, ax = plt.subplots(nrows=1, ncols=1, figsize=(8, 6))\n",
    "\n",
    "    bar_width = 0.1\n",
    "\n",
    "    df_sorted = spatial_statistics.sort_values(by=[\"ecc\", \"orientation\"], kind=\"stable\")\n",
    "    for ecc_index, ecc in enumerate(df_sorted[\"ecc\"].unique()):\n",
    "        ecc_condition = df_sorted[\"ecc\"] == ecc\n",
    "        orientation_sorted = df_sorted.loc[ecc_condition, \"orientation\"]\n",
    "        n_x_bar = len(orientation_sorted)\n",
    "        x_bar = np.linspace(\n",
    "            ecc_index - (n_x_bar - 1) * bar_width / 2,\n",
    "            ecc_index + (n_x_bar + 1) * bar_width / 2,\n",
    "            n_x_bar,\n",
    "        )\n",
    "        y_bar = df_sorted.loc[ecc_condition, statistic]\n",
    "\n",
    "        if errors_interested_statistics[statistic_index] is None:\n",
    "            y_error = None\n",
    "        else:\n",
    "            y_error = errors_interested_statistics[statistic_index][:, df_sorted.index][\n",
    "                :, ecc_condition\n",
    "            ]\n",
    "\n",
    "        ax.bar(\n",
    "            x_bar,\n",
    "            y_bar,\n",
    "            yerr=y_error,\n",
    "            color=[\n",
    "                orientation_color_palette[orientation]\n",
    "                for orientation in np.sort(orientation_sorted, kind=\"stable\")\n",
    "            ],\n",
    "            width=bar_width,\n",
    "            error_kw={\n",
    "                \"elinewidth\": 3,\n",
    "                \"capsize\": 6,\n",
    "                \"capthick\": 3,\n",
    "                \"alpha\": 0.75,\n",
    "                \"ecolor\": \"orange\" if ecc_index == 0 else \"k\",\n",
    "            },\n",
    "        )\n",
    "\n",
    "    ax.set(\n",
    "        ylim=(0, 1),\n",
    "        xlabel=\"Eccentral distance (deg)\",\n",
    "        ylabel=statistic,\n",
    "        xticks=range(len(df_sorted[\"ecc\"].unique())),\n",
    "    )\n",
    "\n",
    "    ax.set_xticklabels(df_sorted[\"ecc\"].unique())\n",
    "\n",
    "    inner_ax = fig.add_axes([-0.025, -0.1, 0.144, 0.2405])\n",
    "    inner_ax.imshow(stimulus_region)\n",
    "    inner_ax.set(xticks=[], yticks=[])\n",
    "\n",
    "    for location_index in range(n_location - 1):\n",
    "        circle = Circle(\n",
    "            (\n",
    "                shifted_spot_center[location_index, 1],\n",
    "                shifted_spot_center[location_index, 0],\n",
    "            ),\n",
    "            spot_size / 2,\n",
    "            color=rgb_orientation_color_map[location_index],\n",
    "            linewidth=1,\n",
    "        )\n",
    "        inner_ax.add_patch(circle)\n",
    "\n",
    "    plt.show()"
   ]
  },
  {
   "cell_type": "code",
   "execution_count": null,
   "metadata": {},
   "outputs": [],
   "source": []
  }
 ],
 "metadata": {
  "kernelspec": {
   "display_name": "bayesee",
   "language": "python",
   "name": "python3"
  },
  "language_info": {
   "codemirror_mode": {
    "name": "ipython",
    "version": 3
   },
   "file_extension": ".py",
   "mimetype": "text/x-python",
   "name": "python",
   "nbconvert_exporter": "python",
   "pygments_lexer": "ipython3",
   "version": "3.11.3"
  },
  "orig_nbformat": 4
 },
 "nbformat": 4,
 "nbformat_minor": 2
}
